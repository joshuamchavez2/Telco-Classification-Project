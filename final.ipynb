{
 "cells": [
  {
   "cell_type": "code",
   "execution_count": 13,
   "id": "2fbac338",
   "metadata": {},
   "outputs": [],
   "source": [
    "# Math \n",
    "from math import sqrt\n",
    "from scipy import stats\n",
    "import statistics\n",
    "import os\n",
    "\n",
    "# General\n",
    "import numpy as np\n",
    "import pandas as pd\n",
    "\n",
    "# Sklearn Modeling\n",
    "from sklearn.model_selection import train_test_split\n",
    "from sklearn.tree import DecisionTreeClassifier\n",
    "from sklearn.tree import export_graphviz\n",
    "from sklearn.metrics import classification_report\n",
    "from sklearn.metrics import confusion_matrix\n",
    "from sklearn.ensemble import RandomForestClassifier\n",
    "from sklearn.neighbors import KNeighborsClassifier\n",
    "from sklearn.linear_model import LogisticRegression\n",
    "\n",
    "# Visuals\n",
    "import matplotlib.pyplot as plt\n",
    "import seaborn as sns\n",
    "from graphviz import Graph\n",
    "from tabulate import tabulate\n",
    "\n",
    "# Custom Module's\n",
    "from acquire import get_telco_data, get_data_dictionary, get_target\n",
    "from prepare import prep_telco_data\n",
    "import explore\n",
    "\n",
    "\n",
    "import warnings\n",
    "warnings.filterwarnings(\"ignore\")"
   ]
  },
  {
   "cell_type": "markdown",
   "id": "dd13293c",
   "metadata": {},
   "source": [
    "<p style=\"font-family:courier; font-size:200%; text-align:center\"> <b>Project Planning<b> </p>"
   ]
  },
  {
   "cell_type": "markdown",
   "id": "194afc4a",
   "metadata": {},
   "source": [
    "<p style=\"font-family:courier; font-size:150%;\">\n",
    "<b>Project and Goals</b><br><br>&nbsp;&nbsp;&nbsp;&nbsp;&nbsp;The project and goal is to find and document drivers for customer churn at Telco and to construct a machine learning classification model that accurately predicts customer churn.<br><br></p>"
   ]
  },
  {
   "cell_type": "markdown",
   "id": "cac08208",
   "metadata": {},
   "source": [
    "<p style=\"font-family:courier; font-size:150%;\">\n",
    "<b>The Plan</b><br><br>&nbsp;&nbsp;&nbsp;&nbsp;&nbsp;Setup my environment, create a new repository, update the .gitignore, create a README.md with the data dictionary, project and business goals, and come up with initial hypotheses.<br><br>\n",
    "<br>&nbsp;&nbsp;&nbsp;&nbsp;&nbsp;Acquire the data, create a python function and SQL script to select all the features and observations from the codeup database.<br><br>\n",
    "<br>&nbsp;&nbsp;&nbsp;&nbsp;&nbsp;Clean the data, drop any useless features, remove duplicate observations, double check data-types, find any null values, decide what do with null values, and encode the features.<br><br>\n",
    "<b>Split the Data</b><br>&nbsp;&nbsp;&nbsp;&nbsp;&nbsp;Split the cleaned data into three data sets named train, validate, and test.<br><br>\n",
    "<b>Explore the data</b><br>&nbsp;&nbsp;&nbsp;&nbsp;&nbsp;Look through the graphs and evaluate each feature to see if they play a part in churn.  Exploration will also include two hypotheses, setting of alpha, statistical tests, rejecting or failing to reject the null hypothesis, and documentation of the findings and takeaways.<br><br>\n",
    "<b>Create Models</b><br>&nbsp;&nbsp;&nbsp;&nbsp;&nbsp;Create three machine learning models plus a baseline model.  Will be using a DecisionTreeClassifier, RandomForestClassifier, and KNeighborsClassifier.  Evaluate models on train and validate datasets.  Pick the model with highest validate accuracy to run on my final test data.<br><br>\n",
    "<b>Create CSV</b><br>&nbsp;&nbsp;&nbsp;&nbsp;&nbsp;Create csv file with the measurement id, the probability of the target values, and the model's prediction for each observation in my test dataset.<br><br>\n",
    "<b>Wrap it up</b><br>&nbsp;&nbsp;&nbsp;&nbsp;&nbsp;I will document conclusions, recommendations, and takeaways in the final report notebook.<br><br><br>For a more detailed and in depth steps, refer to the README.MD</p>\n",
    "\n"
   ]
  },
  {
   "cell_type": "markdown",
   "id": "69a6d335",
   "metadata": {},
   "source": [
    "<p style=\"font-family:courier; font-size:200%; text-align:center\"> <b>Executive Summary - Conclusions & Next Steps<b> </p>"
   ]
  },
  {
   "cell_type": "markdown",
   "id": "0f4e2b03",
   "metadata": {},
   "source": [
    "    I found that my models x, y, and Z...\n",
    "    my best model was ..... and it beat/didn't beat my baselien of ...\n",
    "    The features my model were....\n",
    "    \n",
    "    "
   ]
  },
  {
   "cell_type": "markdown",
   "id": "7498cffe",
   "metadata": {},
   "source": [
    "<p style=\"font-family:courier; font-size:200%; text-align:center\"> <b>Data Acquisition<b> </p>"
   ]
  },
  {
   "cell_type": "code",
   "execution_count": 2,
   "id": "607486b1",
   "metadata": {},
   "outputs": [],
   "source": [
    "# read telco data into a DataFrame\n",
    "df = get_telco_data()"
   ]
  },
  {
   "cell_type": "markdown",
   "id": "34e9edc5",
   "metadata": {},
   "source": [
    "<p style=\"font-family:courier; font-size:150%; text-align:left\"> <b>.info(), .head(), .describe()<b> </p>"
   ]
  },
  {
   "cell_type": "code",
   "execution_count": 3,
   "id": "44f23ffb",
   "metadata": {},
   "outputs": [
    {
     "name": "stdout",
     "output_type": "stream",
     "text": [
      "<class 'pandas.core.frame.DataFrame'>\n",
      "Int64Index: 7043 entries, 0 to 7042\n",
      "Data columns (total 27 columns):\n",
      " #   Column                      Non-Null Count  Dtype  \n",
      "---  ------                      --------------  -----  \n",
      " 0   customer_id                 7043 non-null   object \n",
      " 1   gender                      7043 non-null   object \n",
      " 2   senior_citizen              7043 non-null   int64  \n",
      " 3   partner                     7043 non-null   object \n",
      " 4   dependents                  7043 non-null   object \n",
      " 5   tenure                      7043 non-null   int64  \n",
      " 6   phone_service               7043 non-null   object \n",
      " 7   multiple_lines              7043 non-null   object \n",
      " 8   internet_service_type_id    7043 non-null   int64  \n",
      " 9   online_security             7043 non-null   object \n",
      " 10  online_backup               7043 non-null   object \n",
      " 11  device_protection           7043 non-null   object \n",
      " 12  tech_support                7043 non-null   object \n",
      " 13  streaming_tv                7043 non-null   object \n",
      " 14  streaming_movies            7043 non-null   object \n",
      " 15  contract_type_id            7043 non-null   int64  \n",
      " 16  paperless_billing           7043 non-null   object \n",
      " 17  payment_type_id             7043 non-null   int64  \n",
      " 18  monthly_charges             7043 non-null   float64\n",
      " 19  total_charges               7043 non-null   object \n",
      " 20  churn                       7043 non-null   object \n",
      " 21  contract_type_id.1          7043 non-null   int64  \n",
      " 22  contract_type               7043 non-null   object \n",
      " 23  internet_service_type_id.1  7043 non-null   int64  \n",
      " 24  internet_service_type       7043 non-null   object \n",
      " 25  payment_type_id.1           7043 non-null   int64  \n",
      " 26  payment_type                7043 non-null   object \n",
      "dtypes: float64(1), int64(8), object(18)\n",
      "memory usage: 1.5+ MB\n"
     ]
    }
   ],
   "source": [
    "df.info()\n",
    "\n",
    "# Telco has 7043 observations and 27 features"
   ]
  },
  {
   "cell_type": "code",
   "execution_count": 4,
   "id": "9cbaab1b",
   "metadata": {},
   "outputs": [
    {
     "data": {
      "text/html": [
       "<div>\n",
       "<style scoped>\n",
       "    .dataframe tbody tr th:only-of-type {\n",
       "        vertical-align: middle;\n",
       "    }\n",
       "\n",
       "    .dataframe tbody tr th {\n",
       "        vertical-align: top;\n",
       "    }\n",
       "\n",
       "    .dataframe thead th {\n",
       "        text-align: right;\n",
       "    }\n",
       "</style>\n",
       "<table border=\"1\" class=\"dataframe\">\n",
       "  <thead>\n",
       "    <tr style=\"text-align: right;\">\n",
       "      <th></th>\n",
       "      <th>customer_id</th>\n",
       "      <th>gender</th>\n",
       "      <th>senior_citizen</th>\n",
       "      <th>partner</th>\n",
       "      <th>dependents</th>\n",
       "      <th>tenure</th>\n",
       "      <th>phone_service</th>\n",
       "      <th>multiple_lines</th>\n",
       "      <th>internet_service_type_id</th>\n",
       "      <th>online_security</th>\n",
       "      <th>...</th>\n",
       "      <th>payment_type_id</th>\n",
       "      <th>monthly_charges</th>\n",
       "      <th>total_charges</th>\n",
       "      <th>churn</th>\n",
       "      <th>contract_type_id.1</th>\n",
       "      <th>contract_type</th>\n",
       "      <th>internet_service_type_id.1</th>\n",
       "      <th>internet_service_type</th>\n",
       "      <th>payment_type_id.1</th>\n",
       "      <th>payment_type</th>\n",
       "    </tr>\n",
       "  </thead>\n",
       "  <tbody>\n",
       "    <tr>\n",
       "      <th>0</th>\n",
       "      <td>0016-QLJIS</td>\n",
       "      <td>Female</td>\n",
       "      <td>0</td>\n",
       "      <td>Yes</td>\n",
       "      <td>Yes</td>\n",
       "      <td>65</td>\n",
       "      <td>Yes</td>\n",
       "      <td>Yes</td>\n",
       "      <td>1</td>\n",
       "      <td>Yes</td>\n",
       "      <td>...</td>\n",
       "      <td>2</td>\n",
       "      <td>90.45</td>\n",
       "      <td>5957.9</td>\n",
       "      <td>No</td>\n",
       "      <td>3</td>\n",
       "      <td>Two year</td>\n",
       "      <td>1</td>\n",
       "      <td>DSL</td>\n",
       "      <td>2</td>\n",
       "      <td>Mailed check</td>\n",
       "    </tr>\n",
       "    <tr>\n",
       "      <th>1</th>\n",
       "      <td>0017-DINOC</td>\n",
       "      <td>Male</td>\n",
       "      <td>0</td>\n",
       "      <td>No</td>\n",
       "      <td>No</td>\n",
       "      <td>54</td>\n",
       "      <td>No</td>\n",
       "      <td>No phone service</td>\n",
       "      <td>1</td>\n",
       "      <td>Yes</td>\n",
       "      <td>...</td>\n",
       "      <td>4</td>\n",
       "      <td>45.20</td>\n",
       "      <td>2460.55</td>\n",
       "      <td>No</td>\n",
       "      <td>3</td>\n",
       "      <td>Two year</td>\n",
       "      <td>1</td>\n",
       "      <td>DSL</td>\n",
       "      <td>4</td>\n",
       "      <td>Credit card (automatic)</td>\n",
       "    </tr>\n",
       "    <tr>\n",
       "      <th>2</th>\n",
       "      <td>0019-GFNTW</td>\n",
       "      <td>Female</td>\n",
       "      <td>0</td>\n",
       "      <td>No</td>\n",
       "      <td>No</td>\n",
       "      <td>56</td>\n",
       "      <td>No</td>\n",
       "      <td>No phone service</td>\n",
       "      <td>1</td>\n",
       "      <td>Yes</td>\n",
       "      <td>...</td>\n",
       "      <td>3</td>\n",
       "      <td>45.05</td>\n",
       "      <td>2560.1</td>\n",
       "      <td>No</td>\n",
       "      <td>3</td>\n",
       "      <td>Two year</td>\n",
       "      <td>1</td>\n",
       "      <td>DSL</td>\n",
       "      <td>3</td>\n",
       "      <td>Bank transfer (automatic)</td>\n",
       "    </tr>\n",
       "    <tr>\n",
       "      <th>3</th>\n",
       "      <td>0056-EPFBG</td>\n",
       "      <td>Male</td>\n",
       "      <td>0</td>\n",
       "      <td>Yes</td>\n",
       "      <td>Yes</td>\n",
       "      <td>20</td>\n",
       "      <td>No</td>\n",
       "      <td>No phone service</td>\n",
       "      <td>1</td>\n",
       "      <td>Yes</td>\n",
       "      <td>...</td>\n",
       "      <td>4</td>\n",
       "      <td>39.40</td>\n",
       "      <td>825.4</td>\n",
       "      <td>No</td>\n",
       "      <td>3</td>\n",
       "      <td>Two year</td>\n",
       "      <td>1</td>\n",
       "      <td>DSL</td>\n",
       "      <td>4</td>\n",
       "      <td>Credit card (automatic)</td>\n",
       "    </tr>\n",
       "    <tr>\n",
       "      <th>4</th>\n",
       "      <td>0078-XZMHT</td>\n",
       "      <td>Male</td>\n",
       "      <td>0</td>\n",
       "      <td>Yes</td>\n",
       "      <td>No</td>\n",
       "      <td>72</td>\n",
       "      <td>Yes</td>\n",
       "      <td>Yes</td>\n",
       "      <td>1</td>\n",
       "      <td>No</td>\n",
       "      <td>...</td>\n",
       "      <td>3</td>\n",
       "      <td>85.15</td>\n",
       "      <td>6316.2</td>\n",
       "      <td>No</td>\n",
       "      <td>3</td>\n",
       "      <td>Two year</td>\n",
       "      <td>1</td>\n",
       "      <td>DSL</td>\n",
       "      <td>3</td>\n",
       "      <td>Bank transfer (automatic)</td>\n",
       "    </tr>\n",
       "  </tbody>\n",
       "</table>\n",
       "<p>5 rows × 27 columns</p>\n",
       "</div>"
      ],
      "text/plain": [
       "  customer_id  gender  senior_citizen partner dependents  tenure  \\\n",
       "0  0016-QLJIS  Female               0     Yes        Yes      65   \n",
       "1  0017-DINOC    Male               0      No         No      54   \n",
       "2  0019-GFNTW  Female               0      No         No      56   \n",
       "3  0056-EPFBG    Male               0     Yes        Yes      20   \n",
       "4  0078-XZMHT    Male               0     Yes         No      72   \n",
       "\n",
       "  phone_service    multiple_lines  internet_service_type_id online_security  \\\n",
       "0           Yes               Yes                         1             Yes   \n",
       "1            No  No phone service                         1             Yes   \n",
       "2            No  No phone service                         1             Yes   \n",
       "3            No  No phone service                         1             Yes   \n",
       "4           Yes               Yes                         1              No   \n",
       "\n",
       "   ... payment_type_id monthly_charges total_charges churn contract_type_id.1  \\\n",
       "0  ...               2           90.45        5957.9    No                  3   \n",
       "1  ...               4           45.20       2460.55    No                  3   \n",
       "2  ...               3           45.05        2560.1    No                  3   \n",
       "3  ...               4           39.40         825.4    No                  3   \n",
       "4  ...               3           85.15        6316.2    No                  3   \n",
       "\n",
       "   contract_type internet_service_type_id.1  internet_service_type  \\\n",
       "0       Two year                          1                    DSL   \n",
       "1       Two year                          1                    DSL   \n",
       "2       Two year                          1                    DSL   \n",
       "3       Two year                          1                    DSL   \n",
       "4       Two year                          1                    DSL   \n",
       "\n",
       "   payment_type_id.1               payment_type  \n",
       "0                  2               Mailed check  \n",
       "1                  4    Credit card (automatic)  \n",
       "2                  3  Bank transfer (automatic)  \n",
       "3                  4    Credit card (automatic)  \n",
       "4                  3  Bank transfer (automatic)  \n",
       "\n",
       "[5 rows x 27 columns]"
      ]
     },
     "execution_count": 4,
     "metadata": {},
     "output_type": "execute_result"
    }
   ],
   "source": [
    "df.head(5)\n",
    "\n",
    "# Showing only 5 observations"
   ]
  },
  {
   "cell_type": "code",
   "execution_count": 5,
   "id": "8b756a24",
   "metadata": {},
   "outputs": [
    {
     "data": {
      "text/html": [
       "<div>\n",
       "<style scoped>\n",
       "    .dataframe tbody tr th:only-of-type {\n",
       "        vertical-align: middle;\n",
       "    }\n",
       "\n",
       "    .dataframe tbody tr th {\n",
       "        vertical-align: top;\n",
       "    }\n",
       "\n",
       "    .dataframe thead th {\n",
       "        text-align: right;\n",
       "    }\n",
       "</style>\n",
       "<table border=\"1\" class=\"dataframe\">\n",
       "  <thead>\n",
       "    <tr style=\"text-align: right;\">\n",
       "      <th></th>\n",
       "      <th>count</th>\n",
       "      <th>mean</th>\n",
       "      <th>std</th>\n",
       "      <th>min</th>\n",
       "      <th>25%</th>\n",
       "      <th>50%</th>\n",
       "      <th>75%</th>\n",
       "      <th>max</th>\n",
       "    </tr>\n",
       "  </thead>\n",
       "  <tbody>\n",
       "    <tr>\n",
       "      <th>senior_citizen</th>\n",
       "      <td>7043.0</td>\n",
       "      <td>0.162147</td>\n",
       "      <td>0.368612</td>\n",
       "      <td>0.00</td>\n",
       "      <td>0.0</td>\n",
       "      <td>0.00</td>\n",
       "      <td>0.00</td>\n",
       "      <td>1.00</td>\n",
       "    </tr>\n",
       "    <tr>\n",
       "      <th>tenure</th>\n",
       "      <td>7043.0</td>\n",
       "      <td>32.371149</td>\n",
       "      <td>24.559481</td>\n",
       "      <td>0.00</td>\n",
       "      <td>9.0</td>\n",
       "      <td>29.00</td>\n",
       "      <td>55.00</td>\n",
       "      <td>72.00</td>\n",
       "    </tr>\n",
       "    <tr>\n",
       "      <th>internet_service_type_id</th>\n",
       "      <td>7043.0</td>\n",
       "      <td>1.872923</td>\n",
       "      <td>0.737796</td>\n",
       "      <td>1.00</td>\n",
       "      <td>1.0</td>\n",
       "      <td>2.00</td>\n",
       "      <td>2.00</td>\n",
       "      <td>3.00</td>\n",
       "    </tr>\n",
       "    <tr>\n",
       "      <th>contract_type_id</th>\n",
       "      <td>7043.0</td>\n",
       "      <td>1.690473</td>\n",
       "      <td>0.833755</td>\n",
       "      <td>1.00</td>\n",
       "      <td>1.0</td>\n",
       "      <td>1.00</td>\n",
       "      <td>2.00</td>\n",
       "      <td>3.00</td>\n",
       "    </tr>\n",
       "    <tr>\n",
       "      <th>payment_type_id</th>\n",
       "      <td>7043.0</td>\n",
       "      <td>2.315633</td>\n",
       "      <td>1.148907</td>\n",
       "      <td>1.00</td>\n",
       "      <td>1.0</td>\n",
       "      <td>2.00</td>\n",
       "      <td>3.00</td>\n",
       "      <td>4.00</td>\n",
       "    </tr>\n",
       "    <tr>\n",
       "      <th>monthly_charges</th>\n",
       "      <td>7043.0</td>\n",
       "      <td>64.761692</td>\n",
       "      <td>30.090047</td>\n",
       "      <td>18.25</td>\n",
       "      <td>35.5</td>\n",
       "      <td>70.35</td>\n",
       "      <td>89.85</td>\n",
       "      <td>118.75</td>\n",
       "    </tr>\n",
       "    <tr>\n",
       "      <th>contract_type_id.1</th>\n",
       "      <td>7043.0</td>\n",
       "      <td>1.690473</td>\n",
       "      <td>0.833755</td>\n",
       "      <td>1.00</td>\n",
       "      <td>1.0</td>\n",
       "      <td>1.00</td>\n",
       "      <td>2.00</td>\n",
       "      <td>3.00</td>\n",
       "    </tr>\n",
       "    <tr>\n",
       "      <th>internet_service_type_id.1</th>\n",
       "      <td>7043.0</td>\n",
       "      <td>1.872923</td>\n",
       "      <td>0.737796</td>\n",
       "      <td>1.00</td>\n",
       "      <td>1.0</td>\n",
       "      <td>2.00</td>\n",
       "      <td>2.00</td>\n",
       "      <td>3.00</td>\n",
       "    </tr>\n",
       "    <tr>\n",
       "      <th>payment_type_id.1</th>\n",
       "      <td>7043.0</td>\n",
       "      <td>2.315633</td>\n",
       "      <td>1.148907</td>\n",
       "      <td>1.00</td>\n",
       "      <td>1.0</td>\n",
       "      <td>2.00</td>\n",
       "      <td>3.00</td>\n",
       "      <td>4.00</td>\n",
       "    </tr>\n",
       "  </tbody>\n",
       "</table>\n",
       "</div>"
      ],
      "text/plain": [
       "                             count       mean        std    min   25%    50%  \\\n",
       "senior_citizen              7043.0   0.162147   0.368612   0.00   0.0   0.00   \n",
       "tenure                      7043.0  32.371149  24.559481   0.00   9.0  29.00   \n",
       "internet_service_type_id    7043.0   1.872923   0.737796   1.00   1.0   2.00   \n",
       "contract_type_id            7043.0   1.690473   0.833755   1.00   1.0   1.00   \n",
       "payment_type_id             7043.0   2.315633   1.148907   1.00   1.0   2.00   \n",
       "monthly_charges             7043.0  64.761692  30.090047  18.25  35.5  70.35   \n",
       "contract_type_id.1          7043.0   1.690473   0.833755   1.00   1.0   1.00   \n",
       "internet_service_type_id.1  7043.0   1.872923   0.737796   1.00   1.0   2.00   \n",
       "payment_type_id.1           7043.0   2.315633   1.148907   1.00   1.0   2.00   \n",
       "\n",
       "                              75%     max  \n",
       "senior_citizen               0.00    1.00  \n",
       "tenure                      55.00   72.00  \n",
       "internet_service_type_id     2.00    3.00  \n",
       "contract_type_id             2.00    3.00  \n",
       "payment_type_id              3.00    4.00  \n",
       "monthly_charges             89.85  118.75  \n",
       "contract_type_id.1           2.00    3.00  \n",
       "internet_service_type_id.1   2.00    3.00  \n",
       "payment_type_id.1            3.00    4.00  "
      ]
     },
     "execution_count": 5,
     "metadata": {},
     "output_type": "execute_result"
    }
   ],
   "source": [
    "df.describe().T\n",
    "\n",
    "# Transposed "
   ]
  },
  {
   "cell_type": "markdown",
   "id": "f339e028",
   "metadata": {},
   "source": [
    "<p style=\"font-family:courier; font-size:150%; text-align:left\"> <b>Distributions - \"monthly_charges\", \"tenure\"<b> </p>"
   ]
  },
  {
   "cell_type": "code",
   "execution_count": 6,
   "id": "ea10672f",
   "metadata": {},
   "outputs": [
    {
     "data": {
      "text/plain": [
       "<AxesSubplot:>"
      ]
     },
     "execution_count": 6,
     "metadata": {},
     "output_type": "execute_result"
    },
    {
     "data": {
      "image/png": "[encoded data removed]",
      "text/plain": [
       "<Figure size 432x288 with 1 Axes>"
      ]
     },
     "metadata": {
      "needs_background": "light"
     },
     "output_type": "display_data"
    }
   ],
   "source": [
    "df.monthly_charges.hist()"
   ]
  },
  {
   "cell_type": "code",
   "execution_count": 7,
   "id": "47b5e518",
   "metadata": {},
   "outputs": [
    {
     "data": {
      "text/plain": [
       "<AxesSubplot:>"
      ]
     },
     "execution_count": 7,
     "metadata": {},
     "output_type": "execute_result"
    },
    {
     "data": {
      "image/png": "[encoded data removed]",
      "text/plain": [
       "<Figure size 432x288 with 1 Axes>"
      ]
     },
     "metadata": {
      "needs_background": "light"
     },
     "output_type": "display_data"
    }
   ],
   "source": [
    "df.tenure.hist()"
   ]
  },
  {
   "cell_type": "markdown",
   "id": "e994df7d",
   "metadata": {},
   "source": [
    "<p style=\"font-family:courier; font-size:150%; text-align:left\"> <b>Target - \"churn\"<b> </p>"
   ]
  },
  {
   "cell_type": "code",
   "execution_count": 8,
   "id": "857765a5",
   "metadata": {},
   "outputs": [
    {
     "name": "stdout",
     "output_type": "stream",
     "text": [
      "|             | Target                                             |\n",
      "|:------------|:---------------------------------------------------|\n",
      "| Feature     | churn                                              |\n",
      "| Datatype    | 7043 non-null: object                              |\n",
      "| Description | Yes or no, whether or not the customer has churned |\n"
     ]
    }
   ],
   "source": [
    "print(get_target(df).to_markdown())"
   ]
  },
  {
   "cell_type": "code",
   "execution_count": 9,
   "id": "e8a33e42",
   "metadata": {},
   "outputs": [
    {
     "name": "stdout",
     "output_type": "stream",
     "text": [
      "|     |   churn |\n",
      "|:----|--------:|\n",
      "| No  |    5174 |\n",
      "| Yes |    1869 |\n"
     ]
    }
   ],
   "source": [
    "print(df.churn.value_counts().to_markdown())"
   ]
  },
  {
   "cell_type": "code",
   "execution_count": 10,
   "id": "8bd6ae71",
   "metadata": {},
   "outputs": [
    {
     "data": {
      "text/plain": [
       "<AxesSubplot:>"
      ]
     },
     "execution_count": 10,
     "metadata": {},
     "output_type": "execute_result"
    },
    {
     "data": {
      "image/png": "[encoded data removed]",
      "text/plain": [
       "<Figure size 432x288 with 1 Axes>"
      ]
     },
     "metadata": {
      "needs_background": "light"
     },
     "output_type": "display_data"
    }
   ],
   "source": [
    "df.churn.hist()"
   ]
  },
  {
   "cell_type": "markdown",
   "id": "c84b3869",
   "metadata": {},
   "source": [
    "<p style=\"font-family:courier; font-size:150%; text-align:left\"> <b>Data Dictionary<b> </p>"
   ]
  },
  {
   "cell_type": "code",
   "execution_count": 11,
   "id": "570fb2e6",
   "metadata": {},
   "outputs": [
    {
     "name": "stdout",
     "output_type": "stream",
     "text": [
      "| Feature                    | Datatype               | Description                                                           |\n",
      "|:---------------------------|:-----------------------|:----------------------------------------------------------------------|\n",
      "| customer_id                | 7043 non-null: object  | Identification number for customer                                    |\n",
      "| gender                     | 7043 non-null: object  | Customer gender, male or female                                       |\n",
      "| senior_citizen             | 7043 non-null: int64   | Yes or No, is the customer a senior citizen                           |\n",
      "| partner                    | 7043 non-null: object  | Yes or No, does the customer customer has a parter                    |\n",
      "| dependents                 | 7043 non-null: object  | Number of dependents a customer has                                   |\n",
      "| tenure                     | 7043 non-null: int64   | Number of months a customer has been with the company                 |\n",
      "| phone_service              | 7043 non-null: object  | Phone Service plan, Yes or No                                         |\n",
      "| multiple_lines             | 7043 non-null: object  | Multiple lines, Yes or No                                             |\n",
      "| internet_service_type_id   | 7043 non-null: int64   | 1, 2, 3                                                               |\n",
      "| online_security            | 7043 non-null: object  | Yes, no, or no internet service                                       |\n",
      "| online_backup              | 7043 non-null: object  | Yes, no, or no internet service                                       |\n",
      "| device_protection          | 7043 non-null: object  | Yes, no, or no internet service                                       |\n",
      "| tech_support               | 7043 non-null: object  | Yes, no, or no internet service                                       |\n",
      "| streaming_tv               | 7043 non-null: object  | Yes, no, or no internet service                                       |\n",
      "| streaming_movies           | 7043 non-null: object  | Yes, no, or no internet service                                       |\n",
      "| contract_type_id           | 7043 non-null: int64   | 1, 2, 3                                                               |\n",
      "| paperless_billing          | 7043 non-null: object  | Yes or no, whether or not the customer uses paperless billing         |\n",
      "| payment_type_id            | 7043 non-null: int64   | 1, 2, 3, 4                                                            |\n",
      "| monthly_charges            | 7043 non-null: float64 | Monthly charges the customer pays                                     |\n",
      "| total_charges              | 7043 non-null: object  | Total charges the customer has paid                                   |\n",
      "| churn                      | 7043 non-null: object  | Yes or no, whether or not the customer has churned                    |\n",
      "| contract_type_id.1         | 7043 non-null: int64   | 1, 2, 3                                                               |\n",
      "| contract_type              | 7043 non-null: object  | Month-to-month, One year, Two year                                    |\n",
      "| internet_service_type_id.1 | 7043 non-null: int64   | 1, 2, 3                                                               |\n",
      "| internet_service_type      | 7043 non-null: object  | DSL, Fiber Optic, or None                                             |\n",
      "| payment_type_id.1          | 7043 non-null: int64   | 1, 2, 3, 4                                                            |\n",
      "| payment_type               | 7043 non-null: object  | Electronic check, mailed check, bank transfer, or credit card payment |\n"
     ]
    }
   ],
   "source": [
    "print(get_data_dictionary(df).to_markdown())"
   ]
  },
  {
   "cell_type": "markdown",
   "id": "064e579c",
   "metadata": {},
   "source": [
    "<p style=\"font-family:courier; font-size:150%;\">\n",
    "<b>Data Acquisition Takeaways</b><br><br>&nbsp;&nbsp;&nbsp;&nbsp;&nbsp;The Telco data has 7043 observations and 27 features.  Monthly charges and Tenure are not normally distributed.  1869 customers have churned.  The feature total charges has a data type of object.<br><br></p>"
   ]
  },
  {
   "cell_type": "markdown",
   "id": "71cc4166",
   "metadata": {},
   "source": [
    "<p style=\"font-family:courier; font-size:200%; text-align:center\"> <b>Data Preparation<b> </p>"
   ]
  },
  {
   "cell_type": "markdown",
   "id": "6aec761a",
   "metadata": {},
   "source": [
    "<p style=\"font-family:courier; font-size:150%;\">\n",
    "<b>Clean</b><br><br>\n",
    "&nbsp;&nbsp;&nbsp;&nbsp;&nbsp;Missing values, the Telco data had 11 observations missing a value in the feature total_charges.  Since these all of these observations had a tenure of zero, I decided to drop them.<br><br>&nbsp;&nbsp;&nbsp;&nbsp;&nbsp;Dropping columns, dropped customer_id because it didn't bring any value. Dropped internet_service_type_id.1,  payment_type_id.1, contract_type_id.1 as they were duplicate features.<br><br>&nbsp;&nbsp;&nbsp;&nbsp;&nbsp;Convert data type, 'total_charges' was changed from object to float.<br><br>&nbsp;&nbsp;&nbsp;&nbsp;&nbsp;Encode, used pd.get_dummies() to create new encoded features and dropped the non-encoded features</p>"
   ]
  },
  {
   "cell_type": "markdown",
   "id": "479d1433",
   "metadata": {},
   "source": [
    "<p style=\"font-family:courier; font-size:150%;\">\n",
    "<b>Split</b><br><br>&nbsp;&nbsp;&nbsp;&nbsp;&nbsp;Used sklearn.model_selection to split my cleaned data into three data sets train, validate, and test<br><br></p>"
   ]
  },
  {
   "cell_type": "markdown",
   "id": "60e4f58e",
   "metadata": {},
   "source": [
    "<p style=\"font-family:courier; font-size:150%;\">\n",
    "<b>Prepare</b><br><br></p>"
   ]
  },
  {
   "cell_type": "code",
   "execution_count": 16,
   "id": "58b7c6d5",
   "metadata": {},
   "outputs": [
    {
     "name": "stdout",
     "output_type": "stream",
     "text": [
      "train -> (3937, 50)\n",
      "validate -> (1688, 50)\n",
      "test -> (1407, 50)\n"
     ]
    }
   ],
   "source": [
    "print(f'train -> {train.shape}')\n",
    "print(f'validate -> {validate.shape}')\n",
    "print(f'test -> {test.shape}')"
   ]
  },
  {
   "cell_type": "markdown",
   "id": "20ca9618",
   "metadata": {},
   "source": [
    "<p style=\"font-family:courier; font-size:150%;\">\n",
    "<b>Data Preperation Takeaways</b><br><br>&nbsp;&nbsp;&nbsp;&nbsp;&nbsp;All features and observations have no null or empty values.  All values have been encoded to numberic values.  test_train_split were stratified on my target feature churn. <br><br></p>"
   ]
  },
  {
   "cell_type": "markdown",
   "id": "53c44e24",
   "metadata": {},
   "source": [
    "<p style=\"font-family:courier; font-size:200%; text-align:center\"> <b>Data Exploration & Analysis<b> </p>"
   ]
  },
  {
   "cell_type": "code",
   "execution_count": null,
   "id": "a66f5e9f",
   "metadata": {},
   "outputs": [],
   "source": []
  },
  {
   "cell_type": "markdown",
   "id": "8d1d13e1",
   "metadata": {},
   "source": [
    "# Plan -> Acquire -> Prepare -> Explore -> <span style=\"background-color:#00FF00\">Model</span> -> Deliver"
   ]
  },
  {
   "cell_type": "markdown",
   "id": "9d68f9a8",
   "metadata": {},
   "source": [
    "# Plan -> Acquire -> Prepare -> Explore -> Model -> <span style=\"background-color:#00FF00\">Deliver</span>"
   ]
  },
  {
   "cell_type": "markdown",
   "id": "7ba3c080",
   "metadata": {},
   "source": [
    "# &nbsp;&nbsp;&nbsp;&nbsp;&nbsp;$H_{0}$ \n",
    "<p style=\"font-family:courier; font-size:150%;\">&nbsp;&nbsp;&nbsp;&nbsp;&nbsp;There is no difference in the rate of churn for customers who pay with different payment types.<br></p>\n",
    "\n",
    "# &nbsp;&nbsp;&nbsp;&nbsp;&nbsp;$H_{a}$\n",
    "<p style=\"font-family:courier; font-size:150%;\">&nbsp;&nbsp;&nbsp;&nbsp;&nbsp;Is there a difference in the rate of churn for customers who pay with different payment types? </p>"
   ]
  },
  {
   "cell_type": "markdown",
   "id": "869f7a16",
   "metadata": {},
   "source": [
    "### Introduce yourself and your project goals at the very beginning of your notebook walkthrough.\n",
    "\n",
    "### Summarize your findings at the beginning like you would for an Executive Summary. Just because you don't have a slide deck for this presentation, doesn't mean you throw out everything you learned from Storytelling.\n",
    "\n",
    "### Walk us through the analysis you did to answer our questions and that lead to your findings. Relationships should be visualized and takeaways documented. Please clearly call out the questions and answers you are analyzing as well as offer insights and recommendations based on your findings.\n",
    "\n",
    "### For example: If you find that month-to-month customers churn more, we won't be surprised, but Telco is not getting rid of that plan. The fact that customers churn is not because they can; it's because they can and they are motivated to do so. We want your insights into why they are motivated to do so. We realize you will not be able to do a full causal experiment, but we would like to see some solid evidence of your conclusions.\n",
    "\n",
    "### Finish with key takeaways, recommendations, and next steps and be prepared to answer questions from the data science team about your project.\n",
    "\n",
    "### Remember you have a time limit of 5 minutes for your presentation. Make sure you practice your notebook walkthrough keeping this time limit in mind; it will go by very quickly."
   ]
  },
  {
   "cell_type": "code",
   "execution_count": null,
   "id": "0f9472c5",
   "metadata": {},
   "outputs": [],
   "source": []
  }
 ],
 "metadata": {
  "kernelspec": {
   "display_name": "Python 3",
   "language": "python",
   "name": "python3"
  },
  "language_info": {
   "codemirror_mode": {
    "name": "ipython",
    "version": 3
   },
   "file_extension": ".py",
   "mimetype": "text/x-python",
   "name": "python",
   "nbconvert_exporter": "python",
   "pygments_lexer": "ipython3",
   "version": "3.8.8"
  }
 },
 "nbformat": 4,
 "nbformat_minor": 5
}
