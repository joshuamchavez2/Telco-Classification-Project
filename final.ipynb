{
 "cells": [
  {
   "cell_type": "markdown",
   "id": "52bdf180",
   "metadata": {},
   "source": [
    "### Introduce yourself and your project goals at the very beginning of your notebook walkthrough."
   ]
  },
  {
   "cell_type": "markdown",
   "id": "f61c2382",
   "metadata": {},
   "source": [
    "### Summarize your findings at the beginning like you would for an Executive Summary. Just because you don't have a slide deck for this presentation, doesn't mean you throw out everything you learned from Storytelling."
   ]
  },
  {
   "cell_type": "markdown",
   "id": "5deb95b7",
   "metadata": {},
   "source": [
    "### Walk us through the analysis you did to answer our questions and that lead to your findings. Relationships should be visualized and takeaways documented. Please clearly call out the questions and answers you are analyzing as well as offer insights and recommendations based on your findings."
   ]
  },
  {
   "cell_type": "markdown",
   "id": "e27a0f92",
   "metadata": {},
   "source": [
    "### For example: If you find that month-to-month customers churn more, we won't be surprised, but Telco is not getting rid of that plan. The fact that customers churn is not because they can; it's because they can and they are motivated to do so. We want your insights into why they are motivated to do so. We realize you will not be able to do a full causal experiment, but we would like to see some solid evidence of your conclusions."
   ]
  },
  {
   "cell_type": "markdown",
   "id": "5a9b3f25",
   "metadata": {},
   "source": [
    "### Finish with key takeaways, recommendations, and next steps and be prepared to answer questions from the data science team about your project."
   ]
  },
  {
   "cell_type": "markdown",
   "id": "6fa9cc7a",
   "metadata": {},
   "source": [
    "### Remember you have a time limit of 5 minutes for your presentation. Make sure you practice your notebook walkthrough keeping this time limit in mind; it will go by very quickly."
   ]
  },
  {
   "cell_type": "markdown",
   "id": "70db092c",
   "metadata": {},
   "source": [
    "# <span style=\"background-color:#00FF00\">Plan</span> -> Aquire -> Prepare -> Explore -> Model -> Deliver"
   ]
  },
  {
   "cell_type": "markdown",
   "id": "94c23ca1",
   "metadata": {},
   "source": [
    "\n",
    "<p style=\"font-family:courier; font-size:150%;\">&nbsp;&nbsp;&nbsp;&nbsp;&nbsp;Why are our customers churning?  To try and understand this problem, one can break down the problems into smaller steps.  These steps will be broken down and descibed in detail. <br><br>\n",
    "<b>Step 1.</b><br>&nbsp;&nbsp;&nbsp;&nbsp;&nbsp;Explore the SQL Database. Create a SQL script to acquire all the features. Create a funtion in python that can use previously defined SQL script to acquire the data.<br><br>\n",
    "<b>Step 2.</b><br>&nbsp;&nbsp;&nbsp;&nbsp;&nbsp;Once the data can be imported into a pandas data frame, we can prepare the data for modeling.  In this stage I will be dropping features, removing duplicates, finding null values, deciding what do with the null values, and encoding my features using pd.get_dummies().<br><br>\n",
    "<b>Step 3.</b><br>&nbsp;&nbsp;&nbsp;&nbsp;&nbsp;In the explore phase, I plan on running the predefined explore_univariate(), explore_bivariate(), and explore_multivariate() from the explore.py file.  I plan on looking through the graphs and evaluate each feature to see if they play a part in churn.  If my exploration concludes its a great feature to use, then I will include that feature in my model.<br><br>\n",
    "<b>Step 4.</b><br>&nbsp;&nbsp;&nbsp;&nbsp;&nbsp;I plan on creating three models. I will be using a DecisionTreeClassifier, RandomForestClassifier, and KNeighborsClassifier.  After I make the models I will fit the models and then I will use the models.  I will use the accuracy of the train and validate data to determine if the difference is within my predefined threshold.  Once I have filtered out the models that have passed my threshold allocation, I can then pick the model with highest validate accuracy to run on my final test data.<br><br></p>\n",
    "\n",
    "# &nbsp;&nbsp;&nbsp;&nbsp;&nbsp;$H_{0}$ \n",
    "<p style=\"font-family:courier; font-size:150%;\">&nbsp;&nbsp;&nbsp;&nbsp;&nbsp;There is no difference in the rate of churn for customers who pay with different payment types.<br></p>\n",
    "\n",
    "# &nbsp;&nbsp;&nbsp;&nbsp;&nbsp;$H_{a}$\n",
    "<p style=\"font-family:courier; font-size:150%;\">&nbsp;&nbsp;&nbsp;&nbsp;&nbsp;Is there a difference in the rate of churn for customers who pay with different payment types? </p>"
   ]
  },
  {
   "cell_type": "markdown",
   "id": "4ecd62c9",
   "metadata": {},
   "source": [
    "# Plan -> <span style=\"background-color:#00FF00\">Acquire</span> -> Prepare -> Explore -> Model -> Deliver"
   ]
  },
  {
   "cell_type": "code",
   "execution_count": null,
   "id": "785569dc",
   "metadata": {},
   "outputs": [],
   "source": []
  },
  {
   "cell_type": "markdown",
   "id": "96bae45e",
   "metadata": {},
   "source": [
    "# Plan -> Acquire -> <span style=\"background-color:#00FF00\">Prepare</span> -> Explore -> Model -> Deliver"
   ]
  },
  {
   "cell_type": "code",
   "execution_count": null,
   "id": "97a90a51",
   "metadata": {},
   "outputs": [],
   "source": []
  },
  {
   "cell_type": "markdown",
   "id": "f62edc76",
   "metadata": {},
   "source": [
    "# Plan -> Acquire -> Prepare -> <span style=\"background-color:#00FF00\">Explore</span> -> Model -> Deliver"
   ]
  },
  {
   "cell_type": "code",
   "execution_count": null,
   "id": "f75ffdda",
   "metadata": {},
   "outputs": [],
   "source": []
  },
  {
   "cell_type": "markdown",
   "id": "748f638a",
   "metadata": {},
   "source": [
    "# Plan -> Acquire -> Prepare -> Explore -> <span style=\"background-color:#00FF00\">Model</span> -> Deliver"
   ]
  },
  {
   "cell_type": "code",
   "execution_count": null,
   "id": "70fadac2",
   "metadata": {},
   "outputs": [],
   "source": []
  },
  {
   "cell_type": "markdown",
   "id": "92dc1b7f",
   "metadata": {},
   "source": [
    "# Plan -> Acquire -> Prepare -> Explore -> Model -> <span style=\"background-color:#00FF00\">Deliver</span>"
   ]
  },
  {
   "cell_type": "code",
   "execution_count": null,
   "id": "a462dfc1",
   "metadata": {},
   "outputs": [],
   "source": []
  }
 ],
 "metadata": {
  "kernelspec": {
   "display_name": "Python 3",
   "language": "python",
   "name": "python3"
  },
  "language_info": {
   "codemirror_mode": {
    "name": "ipython",
    "version": 3
   },
   "file_extension": ".py",
   "mimetype": "text/x-python",
   "name": "python",
   "nbconvert_exporter": "python",
   "pygments_lexer": "ipython3",
   "version": "3.8.8"
  }
 },
 "nbformat": 4,
 "nbformat_minor": 5
}
