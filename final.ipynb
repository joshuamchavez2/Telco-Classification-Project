{
 "cells": [
  {
   "cell_type": "code",
   "execution_count": 26,
   "id": "2fbac338",
   "metadata": {},
   "outputs": [],
   "source": [
    "# Math \n",
    "from math import sqrt\n",
    "from scipy import stats\n",
    "import statistics\n",
    "import os\n",
    "\n",
    "# General\n",
    "import numpy as np\n",
    "import pandas as pd\n",
    "\n",
    "# Sklearn Modeling\n",
    "from sklearn.model_selection import train_test_split\n",
    "from sklearn.tree import DecisionTreeClassifier\n",
    "from sklearn.tree import export_graphviz\n",
    "from sklearn.metrics import classification_report\n",
    "from sklearn.metrics import confusion_matrix\n",
    "from sklearn.ensemble import RandomForestClassifier\n",
    "from sklearn.neighbors import KNeighborsClassifier\n",
    "from sklearn.linear_model import LogisticRegression\n",
    "\n",
    "# Visuals\n",
    "import matplotlib.pyplot as plt\n",
    "import seaborn as sns\n",
    "from graphviz import Graph\n",
    "from tabulate import tabulate\n",
    "\n",
    "# Custom Module's\n",
    "from acquire import get_telco_data, get_data_dictionary, get_target\n",
    "from prepare import prep_telco_data, clean_telco\n",
    "import explore\n",
    "\n",
    "\n",
    "import warnings\n",
    "warnings.filterwarnings(\"ignore\")"
   ]
  },
  {
   "cell_type": "markdown",
   "id": "dd13293c",
   "metadata": {},
   "source": [
    "<p style=\"font-family:courier; font-size:200%; text-align:center\"> <b>Project Planning<b> </p>"
   ]
  },
  {
   "cell_type": "markdown",
   "id": "194afc4a",
   "metadata": {},
   "source": [
    "<p style=\"font-family:courier; font-size:150%;\">\n",
    "<b>Project and Goals</b><br><br>&nbsp;&nbsp;&nbsp;&nbsp;&nbsp;The project and goal is to find and document drivers for customer churn at Telco and to construct a machine learning classification model that accurately predicts customer churn.<br><br><b>Starting Hypotheses</b><br><br>&nbsp;&nbsp;&nbsp;&nbsp;&nbsp;Churned customers average total charges is greather than average total charges for not churned customers. The big idea here is that customers are leaving because they are paying too much for services.</p>"
   ]
  },
  {
   "cell_type": "markdown",
   "id": "cac08208",
   "metadata": {},
   "source": [
    "<p style=\"font-family:courier; font-size:150%;\">\n",
    "<b>The Plan</b><br><br>&nbsp;&nbsp;&nbsp;&nbsp;&nbsp;Setup my environment, create a new repository, update the .gitignore, create a README.md with the data dictionary, project and business goals, and come up with initial hypotheses.<br><br>\n",
    "<br>&nbsp;&nbsp;&nbsp;&nbsp;&nbsp;Acquire the data, create a python function and SQL script to select all the features and observations from the codeup database.<br><br>\n",
    "<br>&nbsp;&nbsp;&nbsp;&nbsp;&nbsp;Clean the data, drop any useless features, remove duplicate observations, double check data-types, find any null values, decide what do with null values, and encode the features.<br><br>\n",
    "<br>&nbsp;&nbsp;&nbsp;&nbsp;&nbsp;Split the Data, split into three data sets named train, validate, and test.<br><br>\n",
    "<br>&nbsp;&nbsp;&nbsp;&nbsp;&nbsp;Explore the data, look through the graphs and evaluate each feature to see if they play a part in churn.  Exploration will also include two hypotheses, setting of alpha, statistical tests, rejecting or failing to reject the null hypothesis, and documentation of the findings and takeaways.<br><br>\n",
    "<br>&nbsp;&nbsp;&nbsp;&nbsp;&nbsp;Create Models, create three machine learning models plus a baseline model.  Will be using a DecisionTreeClassifier, RandomForestClassifier, and KNeighborsClassifier.  Evaluate models on train and validate datasets.  Pick the model with highest validate accuracy to run on my final test data.<br><br>\n",
    "<b></b><br>&nbsp;&nbsp;&nbsp;&nbsp;&nbsp;Create csv, this will include a file with the measurement id, the probability of the target values, and the model's prediction for each observation in my test dataset.<br><br>\n",
    "<br>&nbsp;&nbsp;&nbsp;&nbsp;&nbsp;Wrap it up, document conclusions, recommendations, and take aways in the final report notebook.<br><br><br>For a more detailed and in depth steps, refer to the README.MD</p>\n",
    "\n"
   ]
  },
  {
   "cell_type": "markdown",
   "id": "69a6d335",
   "metadata": {},
   "source": [
    "<p style=\"font-family:courier; font-size:200%; text-align:center\"> <b>Executive Summary - Conclusions & Next Steps<b> </p>"
   ]
  },
  {
   "cell_type": "markdown",
   "id": "f953219b",
   "metadata": {},
   "source": [
    "<p style=\"font-family:courier; font-size:150%;\"><b>Conclusion</b><br><br>&nbsp;&nbsp;&nbsp;&nbsp;&nbsp;My random forest classifier model accuracy was 80%, beating my baseline accuracy of 73%.<br><br>&nbsp;&nbsp;&nbsp;&nbsp;&nbsp;My model identified the most important features as Month-to-month, tenure, total_charges, and fiber in that order.<br><br>&nbsp;&nbsp;&nbsp;&nbsp;&nbsp;If I had more time, I would have liked to try a lot more combinations of features.  I would have also liked to iterate through hyperparameters to boost accuracy.<br><br><b>Recommendations</b><br><br>&nbsp;&nbsp;&nbsp;&nbsp;&nbsp;The data suggests signing up new customers and current customers into a longer contract other than month-to-month and not suggesting fiber as an internet speed would lower the churn rate.</p></p>"
   ]
  },
  {
   "cell_type": "markdown",
   "id": "7498cffe",
   "metadata": {},
   "source": [
    "<p style=\"font-family:courier; font-size:200%; text-align:center\"> <b>Data Acquisition<b> </p>"
   ]
  },
  {
   "cell_type": "code",
   "execution_count": 2,
   "id": "607486b1",
   "metadata": {},
   "outputs": [],
   "source": [
    "# read telco data into a DataFrame\n",
    "df = get_telco_data()"
   ]
  },
  {
   "cell_type": "markdown",
   "id": "605cba62",
   "metadata": {},
   "source": [
    "<p style=\"font-family:courier; font-size:150%; text-align:left\"> <b>.info(), .head(), .describe()<b> </p>"
   ]
  },
  {
   "cell_type": "code",
   "execution_count": 3,
   "id": "44f23ffb",
   "metadata": {},
   "outputs": [
    {
     "name": "stdout",
     "output_type": "stream",
     "text": [
      "<class 'pandas.core.frame.DataFrame'>\n",
      "Int64Index: 7043 entries, 0 to 7042\n",
      "Data columns (total 27 columns):\n",
      " #   Column                      Non-Null Count  Dtype  \n",
      "---  ------                      --------------  -----  \n",
      " 0   customer_id                 7043 non-null   object \n",
      " 1   gender                      7043 non-null   object \n",
      " 2   senior_citizen              7043 non-null   int64  \n",
      " 3   partner                     7043 non-null   object \n",
      " 4   dependents                  7043 non-null   object \n",
      " 5   tenure                      7043 non-null   int64  \n",
      " 6   phone_service               7043 non-null   object \n",
      " 7   multiple_lines              7043 non-null   object \n",
      " 8   internet_service_type_id    7043 non-null   int64  \n",
      " 9   online_security             7043 non-null   object \n",
      " 10  online_backup               7043 non-null   object \n",
      " 11  device_protection           7043 non-null   object \n",
      " 12  tech_support                7043 non-null   object \n",
      " 13  streaming_tv                7043 non-null   object \n",
      " 14  streaming_movies            7043 non-null   object \n",
      " 15  contract_type_id            7043 non-null   int64  \n",
      " 16  paperless_billing           7043 non-null   object \n",
      " 17  payment_type_id             7043 non-null   int64  \n",
      " 18  monthly_charges             7043 non-null   float64\n",
      " 19  total_charges               7043 non-null   object \n",
      " 20  churn                       7043 non-null   object \n",
      " 21  contract_type_id.1          7043 non-null   int64  \n",
      " 22  contract_type               7043 non-null   object \n",
      " 23  internet_service_type_id.1  7043 non-null   int64  \n",
      " 24  internet_service_type       7043 non-null   object \n",
      " 25  payment_type_id.1           7043 non-null   int64  \n",
      " 26  payment_type                7043 non-null   object \n",
      "dtypes: float64(1), int64(8), object(18)\n",
      "memory usage: 1.5+ MB\n"
     ]
    }
   ],
   "source": [
    "df.info()\n",
    "\n",
    "# Telco has 7043 observations and 27 features"
   ]
  },
  {
   "cell_type": "code",
   "execution_count": 4,
   "id": "38afe63c",
   "metadata": {},
   "outputs": [
    {
     "data": {
      "text/html": [
       "<div>\n",
       "<style scoped>\n",
       "    .dataframe tbody tr th:only-of-type {\n",
       "        vertical-align: middle;\n",
       "    }\n",
       "\n",
       "    .dataframe tbody tr th {\n",
       "        vertical-align: top;\n",
       "    }\n",
       "\n",
       "    .dataframe thead th {\n",
       "        text-align: right;\n",
       "    }\n",
       "</style>\n",
       "<table border=\"1\" class=\"dataframe\">\n",
       "  <thead>\n",
       "    <tr style=\"text-align: right;\">\n",
       "      <th></th>\n",
       "      <th>customer_id</th>\n",
       "      <th>gender</th>\n",
       "      <th>senior_citizen</th>\n",
       "      <th>partner</th>\n",
       "      <th>dependents</th>\n",
       "      <th>tenure</th>\n",
       "      <th>phone_service</th>\n",
       "      <th>multiple_lines</th>\n",
       "      <th>internet_service_type_id</th>\n",
       "      <th>online_security</th>\n",
       "      <th>...</th>\n",
       "      <th>payment_type_id</th>\n",
       "      <th>monthly_charges</th>\n",
       "      <th>total_charges</th>\n",
       "      <th>churn</th>\n",
       "      <th>contract_type_id.1</th>\n",
       "      <th>contract_type</th>\n",
       "      <th>internet_service_type_id.1</th>\n",
       "      <th>internet_service_type</th>\n",
       "      <th>payment_type_id.1</th>\n",
       "      <th>payment_type</th>\n",
       "    </tr>\n",
       "  </thead>\n",
       "  <tbody>\n",
       "    <tr>\n",
       "      <th>0</th>\n",
       "      <td>0016-QLJIS</td>\n",
       "      <td>Female</td>\n",
       "      <td>0</td>\n",
       "      <td>Yes</td>\n",
       "      <td>Yes</td>\n",
       "      <td>65</td>\n",
       "      <td>Yes</td>\n",
       "      <td>Yes</td>\n",
       "      <td>1</td>\n",
       "      <td>Yes</td>\n",
       "      <td>...</td>\n",
       "      <td>2</td>\n",
       "      <td>90.45</td>\n",
       "      <td>5957.9</td>\n",
       "      <td>No</td>\n",
       "      <td>3</td>\n",
       "      <td>Two year</td>\n",
       "      <td>1</td>\n",
       "      <td>DSL</td>\n",
       "      <td>2</td>\n",
       "      <td>Mailed check</td>\n",
       "    </tr>\n",
       "    <tr>\n",
       "      <th>1</th>\n",
       "      <td>0017-DINOC</td>\n",
       "      <td>Male</td>\n",
       "      <td>0</td>\n",
       "      <td>No</td>\n",
       "      <td>No</td>\n",
       "      <td>54</td>\n",
       "      <td>No</td>\n",
       "      <td>No phone service</td>\n",
       "      <td>1</td>\n",
       "      <td>Yes</td>\n",
       "      <td>...</td>\n",
       "      <td>4</td>\n",
       "      <td>45.20</td>\n",
       "      <td>2460.55</td>\n",
       "      <td>No</td>\n",
       "      <td>3</td>\n",
       "      <td>Two year</td>\n",
       "      <td>1</td>\n",
       "      <td>DSL</td>\n",
       "      <td>4</td>\n",
       "      <td>Credit card (automatic)</td>\n",
       "    </tr>\n",
       "    <tr>\n",
       "      <th>2</th>\n",
       "      <td>0019-GFNTW</td>\n",
       "      <td>Female</td>\n",
       "      <td>0</td>\n",
       "      <td>No</td>\n",
       "      <td>No</td>\n",
       "      <td>56</td>\n",
       "      <td>No</td>\n",
       "      <td>No phone service</td>\n",
       "      <td>1</td>\n",
       "      <td>Yes</td>\n",
       "      <td>...</td>\n",
       "      <td>3</td>\n",
       "      <td>45.05</td>\n",
       "      <td>2560.1</td>\n",
       "      <td>No</td>\n",
       "      <td>3</td>\n",
       "      <td>Two year</td>\n",
       "      <td>1</td>\n",
       "      <td>DSL</td>\n",
       "      <td>3</td>\n",
       "      <td>Bank transfer (automatic)</td>\n",
       "    </tr>\n",
       "    <tr>\n",
       "      <th>3</th>\n",
       "      <td>0056-EPFBG</td>\n",
       "      <td>Male</td>\n",
       "      <td>0</td>\n",
       "      <td>Yes</td>\n",
       "      <td>Yes</td>\n",
       "      <td>20</td>\n",
       "      <td>No</td>\n",
       "      <td>No phone service</td>\n",
       "      <td>1</td>\n",
       "      <td>Yes</td>\n",
       "      <td>...</td>\n",
       "      <td>4</td>\n",
       "      <td>39.40</td>\n",
       "      <td>825.4</td>\n",
       "      <td>No</td>\n",
       "      <td>3</td>\n",
       "      <td>Two year</td>\n",
       "      <td>1</td>\n",
       "      <td>DSL</td>\n",
       "      <td>4</td>\n",
       "      <td>Credit card (automatic)</td>\n",
       "    </tr>\n",
       "    <tr>\n",
       "      <th>4</th>\n",
       "      <td>0078-XZMHT</td>\n",
       "      <td>Male</td>\n",
       "      <td>0</td>\n",
       "      <td>Yes</td>\n",
       "      <td>No</td>\n",
       "      <td>72</td>\n",
       "      <td>Yes</td>\n",
       "      <td>Yes</td>\n",
       "      <td>1</td>\n",
       "      <td>No</td>\n",
       "      <td>...</td>\n",
       "      <td>3</td>\n",
       "      <td>85.15</td>\n",
       "      <td>6316.2</td>\n",
       "      <td>No</td>\n",
       "      <td>3</td>\n",
       "      <td>Two year</td>\n",
       "      <td>1</td>\n",
       "      <td>DSL</td>\n",
       "      <td>3</td>\n",
       "      <td>Bank transfer (automatic)</td>\n",
       "    </tr>\n",
       "  </tbody>\n",
       "</table>\n",
       "<p>5 rows × 27 columns</p>\n",
       "</div>"
      ],
      "text/plain": [
       "  customer_id  gender  senior_citizen partner dependents  tenure  \\\n",
       "0  0016-QLJIS  Female               0     Yes        Yes      65   \n",
       "1  0017-DINOC    Male               0      No         No      54   \n",
       "2  0019-GFNTW  Female               0      No         No      56   \n",
       "3  0056-EPFBG    Male               0     Yes        Yes      20   \n",
       "4  0078-XZMHT    Male               0     Yes         No      72   \n",
       "\n",
       "  phone_service    multiple_lines  internet_service_type_id online_security  \\\n",
       "0           Yes               Yes                         1             Yes   \n",
       "1            No  No phone service                         1             Yes   \n",
       "2            No  No phone service                         1             Yes   \n",
       "3            No  No phone service                         1             Yes   \n",
       "4           Yes               Yes                         1              No   \n",
       "\n",
       "   ... payment_type_id monthly_charges total_charges churn contract_type_id.1  \\\n",
       "0  ...               2           90.45        5957.9    No                  3   \n",
       "1  ...               4           45.20       2460.55    No                  3   \n",
       "2  ...               3           45.05        2560.1    No                  3   \n",
       "3  ...               4           39.40         825.4    No                  3   \n",
       "4  ...               3           85.15        6316.2    No                  3   \n",
       "\n",
       "   contract_type internet_service_type_id.1  internet_service_type  \\\n",
       "0       Two year                          1                    DSL   \n",
       "1       Two year                          1                    DSL   \n",
       "2       Two year                          1                    DSL   \n",
       "3       Two year                          1                    DSL   \n",
       "4       Two year                          1                    DSL   \n",
       "\n",
       "   payment_type_id.1               payment_type  \n",
       "0                  2               Mailed check  \n",
       "1                  4    Credit card (automatic)  \n",
       "2                  3  Bank transfer (automatic)  \n",
       "3                  4    Credit card (automatic)  \n",
       "4                  3  Bank transfer (automatic)  \n",
       "\n",
       "[5 rows x 27 columns]"
      ]
     },
     "execution_count": 4,
     "metadata": {},
     "output_type": "execute_result"
    }
   ],
   "source": [
    "df.head(5)\n",
    "\n",
    "# Showing only 5 observations"
   ]
  },
  {
   "cell_type": "code",
   "execution_count": 5,
   "id": "cda4e1ab",
   "metadata": {},
   "outputs": [
    {
     "data": {
      "text/html": [
       "<div>\n",
       "<style scoped>\n",
       "    .dataframe tbody tr th:only-of-type {\n",
       "        vertical-align: middle;\n",
       "    }\n",
       "\n",
       "    .dataframe tbody tr th {\n",
       "        vertical-align: top;\n",
       "    }\n",
       "\n",
       "    .dataframe thead th {\n",
       "        text-align: right;\n",
       "    }\n",
       "</style>\n",
       "<table border=\"1\" class=\"dataframe\">\n",
       "  <thead>\n",
       "    <tr style=\"text-align: right;\">\n",
       "      <th></th>\n",
       "      <th>count</th>\n",
       "      <th>mean</th>\n",
       "      <th>std</th>\n",
       "      <th>min</th>\n",
       "      <th>25%</th>\n",
       "      <th>50%</th>\n",
       "      <th>75%</th>\n",
       "      <th>max</th>\n",
       "    </tr>\n",
       "  </thead>\n",
       "  <tbody>\n",
       "    <tr>\n",
       "      <th>senior_citizen</th>\n",
       "      <td>7043.0</td>\n",
       "      <td>0.162147</td>\n",
       "      <td>0.368612</td>\n",
       "      <td>0.00</td>\n",
       "      <td>0.0</td>\n",
       "      <td>0.00</td>\n",
       "      <td>0.00</td>\n",
       "      <td>1.00</td>\n",
       "    </tr>\n",
       "    <tr>\n",
       "      <th>tenure</th>\n",
       "      <td>7043.0</td>\n",
       "      <td>32.371149</td>\n",
       "      <td>24.559481</td>\n",
       "      <td>0.00</td>\n",
       "      <td>9.0</td>\n",
       "      <td>29.00</td>\n",
       "      <td>55.00</td>\n",
       "      <td>72.00</td>\n",
       "    </tr>\n",
       "    <tr>\n",
       "      <th>internet_service_type_id</th>\n",
       "      <td>7043.0</td>\n",
       "      <td>1.872923</td>\n",
       "      <td>0.737796</td>\n",
       "      <td>1.00</td>\n",
       "      <td>1.0</td>\n",
       "      <td>2.00</td>\n",
       "      <td>2.00</td>\n",
       "      <td>3.00</td>\n",
       "    </tr>\n",
       "    <tr>\n",
       "      <th>contract_type_id</th>\n",
       "      <td>7043.0</td>\n",
       "      <td>1.690473</td>\n",
       "      <td>0.833755</td>\n",
       "      <td>1.00</td>\n",
       "      <td>1.0</td>\n",
       "      <td>1.00</td>\n",
       "      <td>2.00</td>\n",
       "      <td>3.00</td>\n",
       "    </tr>\n",
       "    <tr>\n",
       "      <th>payment_type_id</th>\n",
       "      <td>7043.0</td>\n",
       "      <td>2.315633</td>\n",
       "      <td>1.148907</td>\n",
       "      <td>1.00</td>\n",
       "      <td>1.0</td>\n",
       "      <td>2.00</td>\n",
       "      <td>3.00</td>\n",
       "      <td>4.00</td>\n",
       "    </tr>\n",
       "    <tr>\n",
       "      <th>monthly_charges</th>\n",
       "      <td>7043.0</td>\n",
       "      <td>64.761692</td>\n",
       "      <td>30.090047</td>\n",
       "      <td>18.25</td>\n",
       "      <td>35.5</td>\n",
       "      <td>70.35</td>\n",
       "      <td>89.85</td>\n",
       "      <td>118.75</td>\n",
       "    </tr>\n",
       "    <tr>\n",
       "      <th>contract_type_id.1</th>\n",
       "      <td>7043.0</td>\n",
       "      <td>1.690473</td>\n",
       "      <td>0.833755</td>\n",
       "      <td>1.00</td>\n",
       "      <td>1.0</td>\n",
       "      <td>1.00</td>\n",
       "      <td>2.00</td>\n",
       "      <td>3.00</td>\n",
       "    </tr>\n",
       "    <tr>\n",
       "      <th>internet_service_type_id.1</th>\n",
       "      <td>7043.0</td>\n",
       "      <td>1.872923</td>\n",
       "      <td>0.737796</td>\n",
       "      <td>1.00</td>\n",
       "      <td>1.0</td>\n",
       "      <td>2.00</td>\n",
       "      <td>2.00</td>\n",
       "      <td>3.00</td>\n",
       "    </tr>\n",
       "    <tr>\n",
       "      <th>payment_type_id.1</th>\n",
       "      <td>7043.0</td>\n",
       "      <td>2.315633</td>\n",
       "      <td>1.148907</td>\n",
       "      <td>1.00</td>\n",
       "      <td>1.0</td>\n",
       "      <td>2.00</td>\n",
       "      <td>3.00</td>\n",
       "      <td>4.00</td>\n",
       "    </tr>\n",
       "  </tbody>\n",
       "</table>\n",
       "</div>"
      ],
      "text/plain": [
       "                             count       mean        std    min   25%    50%  \\\n",
       "senior_citizen              7043.0   0.162147   0.368612   0.00   0.0   0.00   \n",
       "tenure                      7043.0  32.371149  24.559481   0.00   9.0  29.00   \n",
       "internet_service_type_id    7043.0   1.872923   0.737796   1.00   1.0   2.00   \n",
       "contract_type_id            7043.0   1.690473   0.833755   1.00   1.0   1.00   \n",
       "payment_type_id             7043.0   2.315633   1.148907   1.00   1.0   2.00   \n",
       "monthly_charges             7043.0  64.761692  30.090047  18.25  35.5  70.35   \n",
       "contract_type_id.1          7043.0   1.690473   0.833755   1.00   1.0   1.00   \n",
       "internet_service_type_id.1  7043.0   1.872923   0.737796   1.00   1.0   2.00   \n",
       "payment_type_id.1           7043.0   2.315633   1.148907   1.00   1.0   2.00   \n",
       "\n",
       "                              75%     max  \n",
       "senior_citizen               0.00    1.00  \n",
       "tenure                      55.00   72.00  \n",
       "internet_service_type_id     2.00    3.00  \n",
       "contract_type_id             2.00    3.00  \n",
       "payment_type_id              3.00    4.00  \n",
       "monthly_charges             89.85  118.75  \n",
       "contract_type_id.1           2.00    3.00  \n",
       "internet_service_type_id.1   2.00    3.00  \n",
       "payment_type_id.1            3.00    4.00  "
      ]
     },
     "execution_count": 5,
     "metadata": {},
     "output_type": "execute_result"
    }
   ],
   "source": [
    "df.describe().T\n",
    "\n",
    "# Transposed "
   ]
  },
  {
   "cell_type": "markdown",
   "id": "9af0fde8",
   "metadata": {},
   "source": [
    "<p style=\"font-family:courier; font-size:150%; text-align:left\"> <b>Distributions - \"monthly_charges\", \"tenure\"<b> </p>"
   ]
  },
  {
   "cell_type": "code",
   "execution_count": 6,
   "id": "aee53208",
   "metadata": {},
   "outputs": [
    {
     "data": {
      "text/plain": [
       "<AxesSubplot:>"
      ]
     },
     "execution_count": 6,
     "metadata": {},
     "output_type": "execute_result"
    },
    {
     "data": {
      "image/png": "[encoded data removed]",
      "text/plain": [
       "<Figure size 432x288 with 1 Axes>"
      ]
     },
     "metadata": {
      "needs_background": "light"
     },
     "output_type": "display_data"
    }
   ],
   "source": [
    "df.monthly_charges.hist()"
   ]
  },
  {
   "cell_type": "code",
   "execution_count": 7,
   "id": "37fbf5af",
   "metadata": {},
   "outputs": [
    {
     "data": {
      "text/plain": [
       "<AxesSubplot:>"
      ]
     },
     "execution_count": 7,
     "metadata": {},
     "output_type": "execute_result"
    },
    {
     "data": {
      "image/png": "[encoded data removed]",
      "text/plain": [
       "<Figure size 432x288 with 1 Axes>"
      ]
     },
     "metadata": {
      "needs_background": "light"
     },
     "output_type": "display_data"
    }
   ],
   "source": [
    "df.tenure.hist()"
   ]
  },
  {
   "cell_type": "markdown",
   "id": "e994df7d",
   "metadata": {},
   "source": [
    "<p style=\"font-family:courier; font-size:150%; text-align:left\"> <b>Target - \"churn\"<b> </p>"
   ]
  },
  {
   "cell_type": "code",
   "execution_count": 8,
   "id": "857765a5",
   "metadata": {},
   "outputs": [
    {
     "name": "stdout",
     "output_type": "stream",
     "text": [
      "|             | Target                                             |\n",
      "|:------------|:---------------------------------------------------|\n",
      "| Feature     | churn                                              |\n",
      "| Datatype    | 7043 non-null: object                              |\n",
      "| Description | Yes or no, whether or not the customer has churned |\n"
     ]
    }
   ],
   "source": [
    "print(get_target(df).to_markdown())"
   ]
  },
  {
   "cell_type": "code",
   "execution_count": 9,
   "id": "d7d239cb",
   "metadata": {},
   "outputs": [
    {
     "name": "stdout",
     "output_type": "stream",
     "text": [
      "|     |   churn |\n",
      "|:----|--------:|\n",
      "| No  |    5174 |\n",
      "| Yes |    1869 |\n"
     ]
    }
   ],
   "source": [
    "print(df.churn.value_counts().to_markdown())"
   ]
  },
  {
   "cell_type": "code",
   "execution_count": 10,
   "id": "af906c17",
   "metadata": {},
   "outputs": [
    {
     "data": {
      "text/plain": [
       "<AxesSubplot:>"
      ]
     },
     "execution_count": 10,
     "metadata": {},
     "output_type": "execute_result"
    },
    {
     "data": {
      "image/png": "[encoded data removed]",
      "text/plain": [
       "<Figure size 432x288 with 1 Axes>"
      ]
     },
     "metadata": {
      "needs_background": "light"
     },
     "output_type": "display_data"
    }
   ],
   "source": [
    "df.churn.hist()"
   ]
  },
  {
   "cell_type": "markdown",
   "id": "c84b3869",
   "metadata": {},
   "source": [
    "<p style=\"font-family:courier; font-size:150%; text-align:left\"> <b>Data Dictionary<b> </p>"
   ]
  },
  {
   "cell_type": "code",
   "execution_count": 11,
   "id": "570fb2e6",
   "metadata": {},
   "outputs": [
    {
     "name": "stdout",
     "output_type": "stream",
     "text": [
      "| Feature                    | Datatype               | Description                                                           |\n",
      "|:---------------------------|:-----------------------|:----------------------------------------------------------------------|\n",
      "| customer_id                | 7043 non-null: object  | Identification number for customer                                    |\n",
      "| gender                     | 7043 non-null: object  | Customer gender, male or female                                       |\n",
      "| senior_citizen             | 7043 non-null: int64   | Yes or No, is the customer a senior citizen                           |\n",
      "| partner                    | 7043 non-null: object  | Yes or No, does the customer customer has a parter                    |\n",
      "| dependents                 | 7043 non-null: object  | Number of dependents a customer has                                   |\n",
      "| tenure                     | 7043 non-null: int64   | Number of months a customer has been with the company                 |\n",
      "| phone_service              | 7043 non-null: object  | Phone Service plan, Yes or No                                         |\n",
      "| multiple_lines             | 7043 non-null: object  | Multiple lines, Yes or No                                             |\n",
      "| internet_service_type_id   | 7043 non-null: int64   | 1, 2, 3                                                               |\n",
      "| online_security            | 7043 non-null: object  | Yes, no, or no internet service                                       |\n",
      "| online_backup              | 7043 non-null: object  | Yes, no, or no internet service                                       |\n",
      "| device_protection          | 7043 non-null: object  | Yes, no, or no internet service                                       |\n",
      "| tech_support               | 7043 non-null: object  | Yes, no, or no internet service                                       |\n",
      "| streaming_tv               | 7043 non-null: object  | Yes, no, or no internet service                                       |\n",
      "| streaming_movies           | 7043 non-null: object  | Yes, no, or no internet service                                       |\n",
      "| contract_type_id           | 7043 non-null: int64   | 1, 2, 3                                                               |\n",
      "| paperless_billing          | 7043 non-null: object  | Yes or no, whether or not the customer uses paperless billing         |\n",
      "| payment_type_id            | 7043 non-null: int64   | 1, 2, 3, 4                                                            |\n",
      "| monthly_charges            | 7043 non-null: float64 | Monthly charges the customer pays                                     |\n",
      "| total_charges              | 7043 non-null: object  | Total charges the customer has paid                                   |\n",
      "| churn                      | 7043 non-null: object  | Yes or no, whether or not the customer has churned                    |\n",
      "| contract_type_id.1         | 7043 non-null: int64   | 1, 2, 3                                                               |\n",
      "| contract_type              | 7043 non-null: object  | Month-to-month, One year, Two year                                    |\n",
      "| internet_service_type_id.1 | 7043 non-null: int64   | 1, 2, 3                                                               |\n",
      "| internet_service_type      | 7043 non-null: object  | DSL, Fiber Optic, or None                                             |\n",
      "| payment_type_id.1          | 7043 non-null: int64   | 1, 2, 3, 4                                                            |\n",
      "| payment_type               | 7043 non-null: object  | Electronic check, mailed check, bank transfer, or credit card payment |\n"
     ]
    }
   ],
   "source": [
    "print(get_data_dictionary(df).to_markdown())"
   ]
  },
  {
   "cell_type": "markdown",
   "id": "acf1505f",
   "metadata": {},
   "source": [
    "<p style=\"font-family:courier; font-size:150%;\">\n",
    "<b>Data Acquisition Takeaways</b><br><br>&nbsp;&nbsp;&nbsp;&nbsp;&nbsp;The Telco data has 7043 observations and 27 features.  Monthly charges and Tenure are not normally distributed.  1869 customers have churned.  The feature total charges has a data type of object.<br><br></p>"
   ]
  },
  {
   "cell_type": "markdown",
   "id": "71cc4166",
   "metadata": {},
   "source": [
    "<p style=\"font-family:courier; font-size:200%; text-align:center\"> <b>Data Preparation<b> </p>"
   ]
  },
  {
   "cell_type": "markdown",
   "id": "cff9893b",
   "metadata": {},
   "source": [
    "<p style=\"font-family:courier; font-size:150%;\">\n",
    "<b>Clean</b><br><br>\n",
    "&nbsp;&nbsp;&nbsp;&nbsp;&nbsp;Missing values, the Telco data had 11 observations missing a value in the feature total_charges.  Since these all of these observations had a tenure of zero, I decided to drop them.<br><br>&nbsp;&nbsp;&nbsp;&nbsp;&nbsp;Dropping columns, dropped customer_id because it didn't bring any value. Dropped internet_service_type_id.1,  payment_type_id.1, contract_type_id.1 as they were duplicate features.<br><br>&nbsp;&nbsp;&nbsp;&nbsp;&nbsp;Convert data type, 'total_charges' was changed from object to float.<br><br>&nbsp;&nbsp;&nbsp;&nbsp;&nbsp;Encode, used pd.get_dummies() to create new encoded features and dropped the non-encoded features</p>"
   ]
  },
  {
   "cell_type": "markdown",
   "id": "ee0c5a1d",
   "metadata": {},
   "source": [
    "<p style=\"font-family:courier; font-size:150%;\">\n",
    "<b>Split</b><br><br>&nbsp;&nbsp;&nbsp;&nbsp;&nbsp;Used sklearn.model_selection to split my cleaned data into three data sets train, validate, and test<br><br></p>"
   ]
  },
  {
   "cell_type": "markdown",
   "id": "31bb07b1",
   "metadata": {},
   "source": [
    "<p style=\"font-family:courier; font-size:150%;\">\n",
    "<b>Prepare</b><br><br></p>"
   ]
  },
  {
   "cell_type": "code",
   "execution_count": 23,
   "id": "ec4eafc9",
   "metadata": {},
   "outputs": [],
   "source": [
    "train, validate, test = prep_telco_data(get_telco_data())"
   ]
  },
  {
   "cell_type": "code",
   "execution_count": 24,
   "id": "d276c66e",
   "metadata": {},
   "outputs": [
    {
     "name": "stdout",
     "output_type": "stream",
     "text": [
      "train -> (3937, 41)\n",
      "validate -> (1688, 41)\n",
      "test -> (1407, 41)\n"
     ]
    }
   ],
   "source": [
    "print(f'train -> {train.shape}')\n",
    "print(f'validate -> {validate.shape}')\n",
    "print(f'test -> {test.shape}')"
   ]
  },
  {
   "cell_type": "markdown",
   "id": "60f69f42",
   "metadata": {},
   "source": [
    "<p style=\"font-family:courier; font-size:150%;\">\n",
    "<b>Data Preperation Takeaways</b><br><br>&nbsp;&nbsp;&nbsp;&nbsp;&nbsp;All features and observations have no null or empty values.  All values have been encoded to numberic values.  test_train_split were stratified on my target feature churn. <br><br></p>"
   ]
  },
  {
   "cell_type": "markdown",
   "id": "53c44e24",
   "metadata": {},
   "source": [
    "<p style=\"font-family:courier; font-size:200%; text-align:center\"> <b>Data Exploration & Analysis<b> </p>"
   ]
  },
  {
   "cell_type": "markdown",
   "id": "a8fc3211",
   "metadata": {},
   "source": [
    "<p style=\"font-family:courier; font-size:150%;\">\n",
    "<b>Explore</b><br><br>&nbsp;&nbsp;&nbsp;&nbsp;&nbsp;I will be looking for features that are going to help my model accurately predict churn.  I currently have 41 features and need to find the best ones.  To do this, I asked questions like:<br><br>&nbsp;&nbsp;&nbsp;&nbsp;&nbsp;-Which features are too small of a sample?<br><br>&nbsp;&nbsp;&nbsp;&nbsp;&nbsp;-Which features have more of an association with churn?<br><br>&nbsp;&nbsp;&nbsp;&nbsp;&nbsp;-Are churned customers average total charges is greather than average total charges for not churned customers?<br><br>&nbsp;&nbsp;&nbsp;&nbsp;&nbsp;-Are customers who churn average tenure less than the average tenure of those who do not churn?</p>"
   ]
  },
  {
   "cell_type": "markdown",
   "id": "ae89d4a4",
   "metadata": {},
   "source": [
    "<p style=\"font-family:courier; font-size:150%;\">\n",
    "<b>explore_univariate()</b><br><br>&nbsp;&nbsp;&nbsp;&nbsp;&nbsp;What features have a low sample size? When exploring explore_univariate(), I passed in my categorical features, I found that senior_citizen, dependents, and phone_service had a low sample size.  The graph below is an example of what I idenified as low sample size. <br><br></p>"
   ]
  },
  {
   "cell_type": "markdown",
   "id": "63f40fb3",
   "metadata": {},
   "source": [
    "<img src=\"charts/senior_count_blue.png\" align=\"left\" width=\"250\" height=\"250\">"
   ]
  },
  {
   "cell_type": "markdown",
   "id": "cccd6eaa",
   "metadata": {},
   "source": [
    "<p style=\"font-family:courier; font-size:150%;\">\n",
    "<br><br>&nbsp;&nbsp;&nbsp;&nbsp;&nbsp;As you can see from the graph, this was a big indicator that I did not want to use senior citizen or the others that looked like this as features for my models."
   ]
  },
  {
   "cell_type": "markdown",
   "id": "a81f3059",
   "metadata": {},
   "source": [
    "<p style=\"font-family:courier; font-size:150%;\">\n",
    "<b>explore_bivariate()</b><br><br>&nbsp;&nbsp;&nbsp;&nbsp;&nbsp;I explored into finding what features had a high or low churn rate using explore_bivariate().  I wanted to identify features that had an association with churn. I kept the features that had a much larger or lower churn rate.  I decided to drop any feature who's churn rate was roughly equal.  For example, take a look at the graph below.<br><br></p>"
   ]
  },
  {
   "cell_type": "markdown",
   "id": "d83f629d",
   "metadata": {},
   "source": [
    "<img src=\"charts/gender_churn_blue.png\" align=\"left\" width=\"250\" height=\"250\">"
   ]
  },
  {
   "cell_type": "markdown",
   "id": "e6de1505",
   "metadata": {},
   "source": [
    "<p style=\"font-family:courier; font-size:150%;\">\n",
    "<br><br>&nbsp;&nbsp;&nbsp;&nbsp;&nbsp;Notice, that if you are a male or a female, the rate churn is roughly the same.  I don't believe feature like this would help my model accurately predict churn, so I dropped features that were similar to this gender example.  The features that I decided to keep, look more like the example below. </p>"
   ]
  },
  {
   "cell_type": "markdown",
   "id": "3b929024",
   "metadata": {},
   "source": [
    "<img src=\"charts/fiber_churn_blue.png\" align=\"left\" width=\"250\" height=\"250\">"
   ]
  },
  {
   "cell_type": "markdown",
   "id": "3b33b6fe",
   "metadata": {},
   "source": [
    "<p style=\"font-family:courier; font-size:150%;\">\n",
    "<b>Explore Takeaways</b><br><br>&nbsp;&nbsp;&nbsp;&nbsp;&nbsp;Service features like online_security, device_protection, etc... all had an option for \"no internet service\" but this was redundant because the feature internet_service_None already took 'no internet' into account.  Also we didn't need a yes and no for services, so the no's were dropped. Streaming_tv and streaming_movies both had high churn rate for yes and for no so they got dropped.  I originally had 41 features and exploration dropped it down to 20.<br><br></p>"
   ]
  },
  {
   "cell_type": "markdown",
   "id": "2fbd869b",
   "metadata": {},
   "source": [
    "<p style=\"font-family:courier; font-size:150%;\">\n",
    "<b>Analysis</b><br><br>&nbsp;&nbsp;&nbsp;&nbsp;&nbsp;</p>"
   ]
  },
  {
   "cell_type": "markdown",
   "id": "37124e9f",
   "metadata": {},
   "source": [
    "<p style=\"font-family:courier; font-size:150%;\">\n",
    "<b>Original Hypothesis</b><br><br>&nbsp;&nbsp;&nbsp;&nbsp;&nbsp;Churned customers average total charges is greather than average total charges for not churned customers.</p>"
   ]
  },
  {
   "cell_type": "markdown",
   "id": "1aa22534",
   "metadata": {},
   "source": [
    "<p style=\"font-family:courier; font-size:150%;\">\n",
    "$H_0$: Churned customers average total charges is less than or equal to average total charges not churned customers.<br><br>$H_a$: Churned customers average total charges is greather than average total charges for not churned customers.<br><br></p>"
   ]
  },
  {
   "cell_type": "code",
   "execution_count": 30,
   "id": "f00d9b57",
   "metadata": {},
   "outputs": [],
   "source": [
    "alpha = .05"
   ]
  },
  {
   "cell_type": "code",
   "execution_count": 81,
   "id": "1fe18ae1",
   "metadata": {},
   "outputs": [],
   "source": [
    "# Not using prepare.prep_telco_data() because I dont want the df split for hypothesis testing\n",
    "df = clean_telco(get_telco_data())"
   ]
  },
  {
   "cell_type": "code",
   "execution_count": 82,
   "id": "717c0711",
   "metadata": {},
   "outputs": [],
   "source": [
    "churned = df[df['churn'] == 1].total_charges\n",
    "not_churned = df[df['churn'] == 0].total_charges"
   ]
  },
  {
   "cell_type": "code",
   "execution_count": 83,
   "id": "b75d20ae",
   "metadata": {},
   "outputs": [
    {
     "data": {
      "text/plain": [
       "(1531.7960941680035, 2555.3441410032956)"
      ]
     },
     "execution_count": 83,
     "metadata": {},
     "output_type": "execute_result"
    }
   ],
   "source": [
    "# At a glance we can see that not_churned have higher avg total_charges.\n",
    "churned.mean(), not_churned.mean()"
   ]
  },
  {
   "cell_type": "code",
   "execution_count": 42,
   "id": "6a426062",
   "metadata": {},
   "outputs": [
    {
     "data": {
      "text/plain": [
       "<AxesSubplot:>"
      ]
     },
     "execution_count": 42,
     "metadata": {},
     "output_type": "execute_result"
    },
    {
     "data": {
      "image/png": "[encoded data removed]",
      "text/plain": [
       "<Figure size 432x288 with 1 Axes>"
      ]
     },
     "metadata": {
      "needs_background": "light"
     },
     "output_type": "display_data"
    }
   ],
   "source": [
    "# Checking for normal distributions\n",
    "churned.hist()"
   ]
  },
  {
   "cell_type": "code",
   "execution_count": 43,
   "id": "ff02b6ac",
   "metadata": {},
   "outputs": [
    {
     "data": {
      "text/plain": [
       "<AxesSubplot:>"
      ]
     },
     "execution_count": 43,
     "metadata": {},
     "output_type": "execute_result"
    },
    {
     "data": {
      "image/png": "[encoded data removed]",
      "text/plain": [
       "<Figure size 432x288 with 1 Axes>"
      ]
     },
     "metadata": {
      "needs_background": "light"
     },
     "output_type": "display_data"
    }
   ],
   "source": [
    "not_churned.hist()"
   ]
  },
  {
   "cell_type": "code",
   "execution_count": 84,
   "id": "38425516",
   "metadata": {},
   "outputs": [
    {
     "data": {
      "text/plain": [
       "(3575211.5963953366, 5426369.838258472)"
      ]
     },
     "execution_count": 84,
     "metadata": {},
     "output_type": "execute_result"
    }
   ],
   "source": [
    "churned.var(), not_churned.var()"
   ]
  },
  {
   "cell_type": "code",
   "execution_count": 85,
   "id": "33f938f5",
   "metadata": {},
   "outputs": [
    {
     "data": {
      "text/plain": [
       "1.1261484352280497e-37"
      ]
     },
     "execution_count": 85,
     "metadata": {},
     "output_type": "execute_result"
    }
   ],
   "source": [
    "t, p = stats.levene(churned, not_churned)\n",
    "\n",
    "p #The small p-value suggests that the populations do not have equal variances."
   ]
  },
  {
   "cell_type": "markdown",
   "id": "4ede90e0",
   "metadata": {},
   "source": [
    "<p style=\"font-family:courier; font-size:150%;\">\n",
    "We can not assume normal distribution or equal variance so we have to preform a non-parametric test</p>"
   ]
  },
  {
   "cell_type": "code",
   "execution_count": 86,
   "id": "0a25f9dc",
   "metadata": {},
   "outputs": [
    {
     "data": {
      "text/plain": [
       "(3360665.0, 1.0)"
      ]
     },
     "execution_count": 86,
     "metadata": {},
     "output_type": "execute_result"
    }
   ],
   "source": [
    "u, p = stats.mannwhitneyu(churned, not_churned, alternative='greater')\n",
    "u, p"
   ]
  },
  {
   "cell_type": "code",
   "execution_count": 88,
   "id": "ed4e5706",
   "metadata": {},
   "outputs": [
    {
     "name": "stdout",
     "output_type": "stream",
     "text": [
      "Fail to Reject Null Hypthesis\n"
     ]
    }
   ],
   "source": [
    "if (p< alpha):\n",
    "    print(\"Reject Null Hypothesis\")\n",
    "else:\n",
    "    print(\"Fail to Reject Null Hypthesis\")"
   ]
  },
  {
   "cell_type": "markdown",
   "id": "c28e72fe",
   "metadata": {},
   "source": [
    "<p style=\"font-family:courier; font-size:150%;\">\n",
    "Conclusion: Churned customers average total charges is LESS than or equal to average total charges not churned customers.<br><br>Takeaway: Total Charges will be a useful feature.<br><br></p>"
   ]
  },
  {
   "cell_type": "markdown",
   "id": "dba315eb",
   "metadata": {},
   "source": [
    "<p style=\"font-family:courier; font-size:150%;\">\n",
    "<b>Hypothesis 2</b><br><br>&nbsp;&nbsp;&nbsp;&nbsp;&nbsp;Are customers who churn average tenure less than the average tenure of those who do not churn?</p>"
   ]
  },
  {
   "cell_type": "markdown",
   "id": "5b411f6a",
   "metadata": {},
   "source": [
    "<p style=\"font-family:courier; font-size:150%;\">\n",
    "$H_0$: Customers who churn average tenure greater than or equal the average tenure of those who do not churn.<br><br>\n",
    "$H_a$: Customers who churn average tenure less than the average tenure of those who do not churn.<br><br></p>"
   ]
  },
  {
   "cell_type": "code",
   "execution_count": 99,
   "id": "3f1bde36",
   "metadata": {},
   "outputs": [],
   "source": [
    "churned = df[df['churn'] == 1].tenure\n",
    "not_churned = df[df['churn'] == 0].tenure"
   ]
  },
  {
   "cell_type": "code",
   "execution_count": 112,
   "id": "a9c31921",
   "metadata": {},
   "outputs": [
    {
     "data": {
      "text/plain": [
       "(17.979133226324237, 37.65000968429208)"
      ]
     },
     "execution_count": 112,
     "metadata": {},
     "output_type": "execute_result"
    }
   ],
   "source": [
    "# At a glance we can see that not_churned have a higher avg tenure.\n",
    "churned.mean(), not_churned.mean()"
   ]
  },
  {
   "cell_type": "code",
   "execution_count": 102,
   "id": "6c29db3f",
   "metadata": {},
   "outputs": [
    {
     "data": {
      "text/plain": [
       "<AxesSubplot:>"
      ]
     },
     "execution_count": 102,
     "metadata": {},
     "output_type": "execute_result"
    },
    {
     "data": {
      "image/png": "[encoded data removed]",
      "text/plain": [
       "<Figure size 432x288 with 1 Axes>"
      ]
     },
     "metadata": {
      "needs_background": "light"
     },
     "output_type": "display_data"
    }
   ],
   "source": [
    "# Checking for normal distributions\n",
    "churned.hist()"
   ]
  },
  {
   "cell_type": "code",
   "execution_count": 103,
   "id": "cc95c1a5",
   "metadata": {},
   "outputs": [
    {
     "data": {
      "text/plain": [
       "<AxesSubplot:>"
      ]
     },
     "execution_count": 103,
     "metadata": {},
     "output_type": "execute_result"
    },
    {
     "data": {
      "image/png": "[encoded data removed]",
      "text/plain": [
       "<Figure size 432x288 with 1 Axes>"
      ]
     },
     "metadata": {
      "needs_background": "light"
     },
     "output_type": "display_data"
    }
   ],
   "source": [
    "not_churned.hist()"
   ]
  },
  {
   "cell_type": "code",
   "execution_count": 104,
   "id": "977aaa95",
   "metadata": {},
   "outputs": [
    {
     "data": {
      "text/plain": [
       "(381.46476777078675, 579.6990638317611)"
      ]
     },
     "execution_count": 104,
     "metadata": {},
     "output_type": "execute_result"
    }
   ],
   "source": [
    "churned.var(), not_churned.var()"
   ]
  },
  {
   "cell_type": "code",
   "execution_count": 105,
   "id": "5ebf8527",
   "metadata": {},
   "outputs": [
    {
     "data": {
      "text/plain": [
       "2.715805716226133e-89"
      ]
     },
     "execution_count": 105,
     "metadata": {},
     "output_type": "execute_result"
    }
   ],
   "source": [
    "t, p = stats.levene(churned, not_churned)\n",
    "\n",
    "p #The small p-value suggests that the populations do not have equal variances."
   ]
  },
  {
   "cell_type": "markdown",
   "id": "a1d28f95",
   "metadata": {},
   "source": [
    "<p style=\"font-family:courier; font-size:150%;\">\n",
    "We can not assume normal distribution or equal variance so we have to preform a non-parametric test</p>"
   ]
  },
  {
   "cell_type": "code",
   "execution_count": 109,
   "id": "401e50b0",
   "metadata": {},
   "outputs": [
    {
     "data": {
      "text/plain": [
       "(2494979.0, 3.0215232904413584e-211)"
      ]
     },
     "execution_count": 109,
     "metadata": {},
     "output_type": "execute_result"
    }
   ],
   "source": [
    "U, p = stats.mannwhitneyu(churned, not_churned, alternative='less')\n",
    "U, p"
   ]
  },
  {
   "cell_type": "code",
   "execution_count": 110,
   "id": "88b91f3e",
   "metadata": {},
   "outputs": [
    {
     "name": "stdout",
     "output_type": "stream",
     "text": [
      "Reject Null Hypothesis\n"
     ]
    }
   ],
   "source": [
    "if (p< alpha):\n",
    "    print(\"Reject Null Hypothesis\")\n",
    "else:\n",
    "    print(\"Fail to reject Null Hypthesis\")"
   ]
  },
  {
   "cell_type": "markdown",
   "id": "07f5c5a0",
   "metadata": {},
   "source": [
    "<p style=\"font-family:courier; font-size:150%;\">\n",
    "Conclusion: Customers who churn average tenure IS less than the average tenure of those who do not churn.<br><br>Takeaway: Tenure will be a useful feature.<br><br></p>"
   ]
  },
  {
   "cell_type": "markdown",
   "id": "c46bc196",
   "metadata": {},
   "source": [
    "<p style=\"font-family:courier; font-size:150%;\">\n",
    "<b>Analysis Takeaways</b><br><br>&nbsp;&nbsp;&nbsp;&nbsp;&nbsp;Total charges and tenure seem to have an association with churn.  I will include both in my model.<br><br></p>"
   ]
  },
  {
   "cell_type": "markdown",
   "id": "05341689",
   "metadata": {},
   "source": [
    "<p style=\"font-family:courier; font-size:200%; text-align:center\"> <b>Modeling and Evaluation<b><br><br> </p>"
   ]
  },
  {
   "cell_type": "code",
   "execution_count": 122,
   "id": "688df044",
   "metadata": {},
   "outputs": [],
   "source": [
    "train, validate, test = prep_telco_data(get_telco_data())"
   ]
  },
  {
   "cell_type": "markdown",
   "id": "62c3d434",
   "metadata": {},
   "source": [
    "<p style=\"font-family:courier; font-size:150%;\">\n",
    "<b>Setup Basline</b><br></p>"
   ]
  },
  {
   "cell_type": "code",
   "execution_count": 125,
   "id": "e22d4e7c",
   "metadata": {},
   "outputs": [
    {
     "data": {
      "text/plain": [
       "0    2891\n",
       "1    1046\n",
       "Name: churn, dtype: int64"
      ]
     },
     "execution_count": 125,
     "metadata": {},
     "output_type": "execute_result"
    }
   ],
   "source": [
    "train.churn.value_counts()"
   ]
  },
  {
   "cell_type": "code",
   "execution_count": 127,
   "id": "5c95aefc",
   "metadata": {},
   "outputs": [
    {
     "name": "stdout",
     "output_type": "stream",
     "text": [
      "Baseline Accuracy is: 73.4%\n"
     ]
    }
   ],
   "source": [
    "baseline_accuracy = (train.churn == 0).mean()\n",
    "print(f\"Baseline Accuracy is: {round(baseline_accuracy, 3)*100}%\")"
   ]
  },
  {
   "cell_type": "markdown",
   "id": "0341a208",
   "metadata": {},
   "source": [
    "<p style=\"font-family:courier; font-size:150%;\">\n",
    "<b>Threshold Allocation</b><br></p>"
   ]
  },
  {
   "cell_type": "code",
   "execution_count": 187,
   "id": "5531b163",
   "metadata": {},
   "outputs": [],
   "source": [
    "threshold = .05"
   ]
  },
  {
   "cell_type": "markdown",
   "id": "66e41ea0",
   "metadata": {},
   "source": [
    "<p style=\"font-family:courier; font-size:150%;\">\n",
    "<b>Models</b><br></p>"
   ]
  },
  {
   "cell_type": "markdown",
   "id": "77382156",
   "metadata": {},
   "source": [
    "<p style=\"font-family:courier; font-size:150%;\">\n",
    "I'm going to try Logistic_Regression, DecisionTree, RandomForest, and Kneighbors Classifiers with: <br><br>&nbsp;&nbsp;&nbsp;&nbsp;&nbsp;'tenure'<br> &nbsp;&nbsp;&nbsp;&nbsp;&nbsp;'monthly_charges'<br> &nbsp;&nbsp;&nbsp;&nbsp;&nbsp;'total_charges'<br> &nbsp;&nbsp;&nbsp;&nbsp;&nbsp;'partner_Yes'<br>\n",
    "       &nbsp;&nbsp;&nbsp;&nbsp;&nbsp;'paperless_billing_Yes'<br> &nbsp;&nbsp;&nbsp;&nbsp;&nbsp;'churn'<br> &nbsp;&nbsp;&nbsp;&nbsp;&nbsp;'online_security_Yes'<br>\n",
    "       &nbsp;&nbsp;&nbsp;&nbsp;&nbsp;'online_backup_Yes'<br> &nbsp;&nbsp;&nbsp;&nbsp;&nbsp;'device_protection_Yes'<br> &nbsp;&nbsp;&nbsp;&nbsp;&nbsp;'tech_support_Yes'<br>\n",
    "       &nbsp;&nbsp;&nbsp;&nbsp;&nbsp;'payment_Bank transfer'<br> &nbsp;&nbsp;&nbsp;&nbsp;&nbsp;'payment_Credit card'<br>\n",
    "       &nbsp;&nbsp;&nbsp;&nbsp;&nbsp;'payment_Electronic check'<br> &nbsp;&nbsp;&nbsp;&nbsp;&nbsp;'payment_Mailed check'<br>\n",
    "       &nbsp;&nbsp;&nbsp;&nbsp;&nbsp;'internet_service_DSL'<br> &nbsp;&nbsp;&nbsp;&nbsp;&nbsp;'internet_service_Fiber optic'<br>\n",
    "       &nbsp;&nbsp;&nbsp;&nbsp;&nbsp;'internet_service_None'<br> &nbsp;&nbsp;&nbsp;&nbsp;&nbsp;'contract_Month-to-month'<br> &nbsp;&nbsp;&nbsp;&nbsp;&nbsp;'contract_One year'<br>\n",
    "       &nbsp;&nbsp;&nbsp;&nbsp;&nbsp;'contract_Two year'"
   ]
  },
  {
   "cell_type": "markdown",
   "id": "e94280de",
   "metadata": {},
   "source": [
    "<p style=\"font-family:courier; font-size:150%;\">\n",
    "My goal is to beat my 73% baseline accuracy.</p>"
   ]
  },
  {
   "cell_type": "markdown",
   "id": "bd11c5d8",
   "metadata": {},
   "source": [
    "<p style=\"font-family:courier; font-size:150%;\">\n",
    "This will provide a glance at the performance of four different classifiers; I can either test the best performing model or go on and perform feature engineering or adjust hyperparameters.</p>"
   ]
  },
  {
   "cell_type": "markdown",
   "id": "80f35b17",
   "metadata": {},
   "source": [
    "<p style=\"font-family:courier; font-size:150%;\">\n",
    "<b>Define X and y, train, validate, and test datasets</b></p>"
   ]
  },
  {
   "cell_type": "code",
   "execution_count": 341,
   "id": "be96a9f9",
   "metadata": {},
   "outputs": [],
   "source": [
    "features =['tenure', 'monthly_charges', 'total_charges', 'partner_Yes',\n",
    "       'paperless_billing_Yes', 'online_security_Yes',\n",
    "       'online_backup_Yes', 'device_protection_Yes', 'tech_support_Yes',\n",
    "       'payment_Bank transfer', 'payment_Credit card',\n",
    "       'payment_Electronic check', 'payment_Mailed check',\n",
    "       'internet_service_DSL', 'internet_service_Fiber optic',\n",
    "       'internet_service_None', 'contract_Month-to-month', 'contract_One year',\n",
    "       'contract_Two year']"
   ]
  },
  {
   "cell_type": "markdown",
   "id": "1a2bcae4",
   "metadata": {},
   "source": [
    "<p style=\"font-family:courier; font-size:150%;\">\n",
    "<b>X</b><br></p>"
   ]
  },
  {
   "cell_type": "code",
   "execution_count": 323,
   "id": "4257deaf",
   "metadata": {},
   "outputs": [],
   "source": [
    "X_train = train[features]\n",
    "X_validate = validate[features]\n",
    "X_test = test[features]"
   ]
  },
  {
   "cell_type": "markdown",
   "id": "6ed17a1c",
   "metadata": {},
   "source": [
    "<p style=\"font-family:courier; font-size:150%;\">\n",
    "<b>y</b><br></p>"
   ]
  },
  {
   "cell_type": "code",
   "execution_count": 324,
   "id": "4e2fa109",
   "metadata": {},
   "outputs": [],
   "source": [
    "y_train = train['churn']\n",
    "y_validate = validate['churn']\n",
    "y_test = test['churn']"
   ]
  },
  {
   "cell_type": "markdown",
   "id": "cd4a0aa9",
   "metadata": {},
   "source": [
    "<p style=\"font-family:courier; font-size:150%;\">\n",
    "<b>Decision Tree Classifier</b></p>"
   ]
  },
  {
   "cell_type": "code",
   "execution_count": 325,
   "id": "0ddbd1a2",
   "metadata": {},
   "outputs": [
    {
     "name": "stdout",
     "output_type": "stream",
     "text": [
      "Accuracy of Decision Tree classifier on training set: 0.793\n",
      "Accuracy of Decision Tree classifier on validate set: 0.792\n",
      "Passes Treshold Allocation: True\n"
     ]
    }
   ],
   "source": [
    "# Make the model\n",
    "clf = DecisionTreeClassifier(max_depth=3, random_state=123)\n",
    "\n",
    "# Fit the model\n",
    "clf = clf.fit(X_train, y_train)\n",
    "\n",
    "# Train\n",
    "y_pred = clf.predict(X_train)\n",
    "train_accuracy = clf.score(X_train, y_train)\n",
    "\n",
    "# Validate\n",
    "\n",
    "y_pred = clf.predict(X_validate)\n",
    "validate_accuracy = clf.score(X_validate, y_validate)\n",
    "\n",
    "\n",
    "print('Accuracy of Decision Tree classifier on training set: {:.3f}'\n",
    "      .format(clf.score(X_train, y_train)))\n",
    "print('Accuracy of Decision Tree classifier on validate set: {:.3f}'\n",
    "      .format(clf.score(X_validate, y_validate)))\n",
    "print(f\"Passes Treshold Allocation: {threshold > round(abs(train_accuracy-validate_accuracy), 3)}\")\n"
   ]
  },
  {
   "cell_type": "markdown",
   "id": "ef3332fe",
   "metadata": {},
   "source": [
    "<p style=\"font-family:courier; font-size:150%;\">\n",
    "<b>Random Forest Classifier</b></p>"
   ]
  },
  {
   "cell_type": "code",
   "execution_count": 326,
   "id": "20873d0c",
   "metadata": {},
   "outputs": [
    {
     "name": "stdout",
     "output_type": "stream",
     "text": [
      "Accuracy of random forest classifier on training set: 0.81\n",
      "Accuracy of random forest classifier on validate set: 0.800\n",
      "Passes Treshold Allocation: True\n"
     ]
    }
   ],
   "source": [
    "# Make the model\n",
    "rf = RandomForestClassifier(bootstrap=True, \n",
    "                            class_weight=None, \n",
    "                            criterion='gini',\n",
    "                            min_samples_leaf=1,\n",
    "                            n_estimators=100,\n",
    "                            max_depth=6, \n",
    "                            random_state=123)\n",
    "\n",
    "# Fit the model\n",
    "rf.fit(X_train, y_train)\n",
    "\n",
    "# Train\n",
    "y_pred = rf.predict(X_train)\n",
    "train_accuracy = rf.score(X_train, y_train)\n",
    "\n",
    "# Validate\n",
    "y_pred = rf.predict(X_validate)\n",
    "validate_accuracy = rf.score(X_validate, y_validate)\n",
    "\n",
    "print('Accuracy of random forest classifier on training set: {:.2f}'\n",
    "     .format(rf.score(X_train, y_train)))\n",
    "print('Accuracy of random forest classifier on validate set: {:.3f}'\n",
    "      .format(rf.score(X_validate, y_validate)))\n",
    "print(f\"Passes Treshold Allocation: {threshold > round(abs(train_accuracy-validate_accuracy), 3)}\")"
   ]
  },
  {
   "cell_type": "markdown",
   "id": "4b6a6cd1",
   "metadata": {},
   "source": [
    "<p style=\"font-family:courier; font-size:150%;\">\n",
    "<b>K Neighbors Classifier</b></p>"
   ]
  },
  {
   "cell_type": "code",
   "execution_count": 327,
   "id": "6f4f5239",
   "metadata": {},
   "outputs": [
    {
     "name": "stdout",
     "output_type": "stream",
     "text": [
      "Accuracy of K Neighbors classifier on training set: 0.80\n",
      "Accuracy of K Neighbors classifier on validate set: 0.775\n",
      "Passes Treshold Allocation: True\n"
     ]
    }
   ],
   "source": [
    "# Make the model\n",
    "knn = KNeighborsClassifier(n_neighbors=10, weights='uniform')\n",
    "\n",
    "# Fit the model\n",
    "knn.fit(X_train, y_train)\n",
    "\n",
    "# Train\n",
    "y_pred = knn.predict(X_train)\n",
    "train_accuracy = knn.score(X_train, y_train)\n",
    "\n",
    "# Validate\n",
    "y_pred = knn.predict(X_validate)\n",
    "validate_accuracy = knn.score(X_validate, y_validate)\n",
    "\n",
    "print('Accuracy of K Neighbors classifier on training set: {:.2f}'\n",
    "     .format(knn.score(X_train, y_train)))\n",
    "print('Accuracy of K Neighbors classifier on validate set: {:.3f}'\n",
    "      .format(knn.score(X_validate, y_validate)))\n",
    "print(f\"Passes Treshold Allocation: {threshold > round(abs(train_accuracy-validate_accuracy), 3)}\")"
   ]
  },
  {
   "cell_type": "markdown",
   "id": "c76fff1a",
   "metadata": {},
   "source": [
    "<p style=\"font-family:courier; font-size:150%;\">\n",
    "<b>Logistic Regression Classifier</b></p>"
   ]
  },
  {
   "cell_type": "code",
   "execution_count": 328,
   "id": "de2492a4",
   "metadata": {},
   "outputs": [
    {
     "name": "stdout",
     "output_type": "stream",
     "text": [
      "Accuracy of Logistic Regression classifier on training set: 0.80\n",
      "Accuracy of Logistic Regression classifier on validate set: 0.791\n",
      "Passes Treshold Allocation: True\n"
     ]
    }
   ],
   "source": [
    "# Make the model\n",
    "logit = LogisticRegression(C=.1, random_state=123)\n",
    "\n",
    "# Fit the Model\n",
    "logit.fit(X_train, y_train)\n",
    "\n",
    "# Train\n",
    "y_pred = logit.predict(X_train)\n",
    "train_accuracy = logit.score(X_train, y_train)\n",
    "\n",
    "# Validate\n",
    "y_pred = logit.predict(X_validate)\n",
    "validate_accuracy = logit.score(X_validate, y_validate)\n",
    "\n",
    "print('Accuracy of Logistic Regression classifier on training set: {:.2f}'\n",
    "     .format(logit.score(X_train, y_train)))\n",
    "print('Accuracy of Logistic Regression classifier on validate set: {:.3f}'\n",
    "      .format(logit.score(X_validate, y_validate)))\n",
    "print(f\"Passes Treshold Allocation: {threshold > round(abs(train_accuracy-validate_accuracy), 3)}\")"
   ]
  },
  {
   "cell_type": "markdown",
   "id": "595f605f",
   "metadata": {},
   "source": [
    "<p style=\"font-family:courier; font-size:150%;\">\n",
    "<b>MVP Models - Takeaways</b><br><br>&nbsp;&nbsp;&nbsp;&nbsp;&nbsp;All of the models, train and validate, accuracy were in the high 70's. <br><br>&nbsp;&nbsp;&nbsp;&nbsp;&nbsp;These models all predicted my target variable, churn, much better than my baseline accuracy of 73% on both train and validate datasets.<br><br>&nbsp;&nbsp;&nbsp;&nbsp;&nbsp;All of the models passed the threshold allocation<br><br>&nbsp;&nbsp;&nbsp;&nbsp;&nbsp;I am going to move foward with my random forest classifier because it scored the highest on validate. It also has reduction in over-fitting and naturally performs feature selection.</p>"
   ]
  },
  {
   "cell_type": "markdown",
   "id": "5e15751a",
   "metadata": {},
   "source": [
    "<p style=\"font-family:courier; font-size:150%;\">\n",
    "<b>Test My Best Model</b></p>"
   ]
  },
  {
   "cell_type": "code",
   "execution_count": 329,
   "id": "c3f809fa",
   "metadata": {},
   "outputs": [
    {
     "name": "stdout",
     "output_type": "stream",
     "text": [
      "Accuracy of Random Forest classifier on training set: 0.813\n",
      "Accuracy of Random Forest classifier on validate set: 0.800\n",
      "Accuracy of Random Forest classifier on test set: 0.801\n"
     ]
    }
   ],
   "source": [
    "# Make the model\n",
    "rf = RandomForestClassifier(bootstrap=True, \n",
    "                            class_weight=None, \n",
    "                            criterion='gini',\n",
    "                            min_samples_leaf=1,\n",
    "                            n_estimators=100,\n",
    "                            max_depth=6, \n",
    "                            random_state=123)\n",
    "\n",
    "# Fit the model\n",
    "rf.fit(X_train, y_train)\n",
    "\n",
    "# Train\n",
    "y_pred = rf.predict(X_train)\n",
    "train_accuracy = rf.score(X_train, y_train)\n",
    "\n",
    "# Validate\n",
    "y_pred = rf.predict(X_validate)\n",
    "validate_accuracy = rf.score(X_validate, y_validate)\n",
    "\n",
    "# Test\n",
    "y_pred = rf.predict(X_test)\n",
    "test_accuracy = rf.score(X_test, y_test)\n",
    "\n",
    "print('Accuracy of Random Forest classifier on training set: {:.3f}'\n",
    "      .format(rf.score(X_train, y_train)))\n",
    "print('Accuracy of Random Forest classifier on validate set: {:.3f}'\n",
    "      .format(rf.score(X_validate, y_validate)))\n",
    "print('Accuracy of Random Forest classifier on test set: {:.3f}'\n",
    "      .format(rf.score(X_test, y_test)))"
   ]
  },
  {
   "cell_type": "markdown",
   "id": "fbd2de71",
   "metadata": {},
   "source": [
    "<p style=\"font-family:courier; font-size:150%;\">\n",
    "<b>Feature Importance</b></p>"
   ]
  },
  {
   "cell_type": "code",
   "execution_count": 373,
   "id": "e0f1a8a1",
   "metadata": {},
   "outputs": [
    {
     "data": {
      "text/plain": [
       "array([0.1665408 , 0.09935391, 0.11849976, 0.00493866, 0.01751831,\n",
       "       0.03544801, 0.00835064, 0.0058714 , 0.01722538, 0.00280043,\n",
       "       0.00447194, 0.06001308, 0.00709568, 0.02274862, 0.11585295,\n",
       "       0.04549472, 0.18088997, 0.02541342, 0.06147233])"
      ]
     },
     "execution_count": 373,
     "metadata": {},
     "output_type": "execute_result"
    }
   ],
   "source": [
    "rf.feature_importances_"
   ]
  },
  {
   "cell_type": "markdown",
   "id": "fa9d479c",
   "metadata": {},
   "source": [
    "<p style=\"font-family:courier; font-size:150%;\">Random Forest classifier idenified the most important features as contract_Month-to-month, tenure, total_charges, and fiber in that order.</p>"
   ]
  },
  {
   "cell_type": "markdown",
   "id": "b923b60a",
   "metadata": {},
   "source": [
    "<p style=\"font-family:courier; font-size:200%; text-align:center\"> <b>Create the Predictions CSV<b><br><br> </p>"
   ]
  },
  {
   "cell_type": "code",
   "execution_count": 365,
   "id": "729a86fc",
   "metadata": {},
   "outputs": [],
   "source": [
    "proba_test = rf.predict_proba(X_test)"
   ]
  },
  {
   "cell_type": "code",
   "execution_count": 366,
   "id": "43be3280",
   "metadata": {},
   "outputs": [],
   "source": [
    "proba_df = pd.DataFrame(proba_test, columns=rf.classes_.tolist())"
   ]
  },
  {
   "cell_type": "code",
   "execution_count": 367,
   "id": "ed4b8fcd",
   "metadata": {},
   "outputs": [],
   "source": [
    "reset_test = test.reset_index()"
   ]
  },
  {
   "cell_type": "code",
   "execution_count": 368,
   "id": "15c5e118",
   "metadata": {},
   "outputs": [],
   "source": [
    "test_proba_df = pd.concat([reset_test, proba_df], axis=1)"
   ]
  },
  {
   "cell_type": "code",
   "execution_count": 369,
   "id": "967a464e",
   "metadata": {},
   "outputs": [],
   "source": [
    "test_proba_df = test_proba_df.rename(columns={0: 'not_churn', 1:'churn_yes'})"
   ]
  },
  {
   "cell_type": "code",
   "execution_count": 370,
   "id": "0a763a00",
   "metadata": {},
   "outputs": [],
   "source": [
    "test_proba_df['predicted'] = np.where(test_proba_df.not_churn > test_proba_df.churn_yes, 'not_churn', 'churn')"
   ]
  },
  {
   "cell_type": "code",
   "execution_count": 371,
   "id": "19e8d6eb",
   "metadata": {},
   "outputs": [
    {
     "data": {
      "text/html": [
       "<div>\n",
       "<style scoped>\n",
       "    .dataframe tbody tr th:only-of-type {\n",
       "        vertical-align: middle;\n",
       "    }\n",
       "\n",
       "    .dataframe tbody tr th {\n",
       "        vertical-align: top;\n",
       "    }\n",
       "\n",
       "    .dataframe thead th {\n",
       "        text-align: right;\n",
       "    }\n",
       "</style>\n",
       "<table border=\"1\" class=\"dataframe\">\n",
       "  <thead>\n",
       "    <tr style=\"text-align: right;\">\n",
       "      <th></th>\n",
       "      <th>index</th>\n",
       "      <th>churn</th>\n",
       "      <th>not_churn</th>\n",
       "      <th>churn_yes</th>\n",
       "      <th>predicted</th>\n",
       "    </tr>\n",
       "  </thead>\n",
       "  <tbody>\n",
       "    <tr>\n",
       "      <th>0</th>\n",
       "      <td>2897</td>\n",
       "      <td>0</td>\n",
       "      <td>0.735046</td>\n",
       "      <td>0.264954</td>\n",
       "      <td>not_churn</td>\n",
       "    </tr>\n",
       "    <tr>\n",
       "      <th>1</th>\n",
       "      <td>6407</td>\n",
       "      <td>0</td>\n",
       "      <td>0.913181</td>\n",
       "      <td>0.086819</td>\n",
       "      <td>not_churn</td>\n",
       "    </tr>\n",
       "    <tr>\n",
       "      <th>2</th>\n",
       "      <td>6272</td>\n",
       "      <td>0</td>\n",
       "      <td>0.958836</td>\n",
       "      <td>0.041164</td>\n",
       "      <td>not_churn</td>\n",
       "    </tr>\n",
       "    <tr>\n",
       "      <th>3</th>\n",
       "      <td>5638</td>\n",
       "      <td>0</td>\n",
       "      <td>0.992118</td>\n",
       "      <td>0.007882</td>\n",
       "      <td>not_churn</td>\n",
       "    </tr>\n",
       "    <tr>\n",
       "      <th>4</th>\n",
       "      <td>903</td>\n",
       "      <td>0</td>\n",
       "      <td>0.941565</td>\n",
       "      <td>0.058435</td>\n",
       "      <td>not_churn</td>\n",
       "    </tr>\n",
       "  </tbody>\n",
       "</table>\n",
       "</div>"
      ],
      "text/plain": [
       "   index  churn  not_churn  churn_yes  predicted\n",
       "0   2897      0   0.735046   0.264954  not_churn\n",
       "1   6407      0   0.913181   0.086819  not_churn\n",
       "2   6272      0   0.958836   0.041164  not_churn\n",
       "3   5638      0   0.992118   0.007882  not_churn\n",
       "4    903      0   0.941565   0.058435  not_churn"
      ]
     },
     "execution_count": 371,
     "metadata": {},
     "output_type": "execute_result"
    }
   ],
   "source": [
    "csv_df = test_proba_df[['index', 'churn', 'not_churn', 'churn_yes', 'predicted']]\n",
    "csv_df.head()"
   ]
  },
  {
   "cell_type": "code",
   "execution_count": null,
   "id": "13d18477",
   "metadata": {},
   "outputs": [],
   "source": [
    "# Write DataFrame to a csv file for deliverable.\n",
    "\n",
    "csv_df.to_csv('predictions.csv')"
   ]
  },
  {
   "cell_type": "markdown",
   "id": "dec9d178",
   "metadata": {},
   "source": [
    "<p style=\"font-family:courier; font-size:150%;\"><b>Conclusion</b><br><br>&nbsp;&nbsp;&nbsp;&nbsp;&nbsp;My random forest classifier model accuracy was 80%, beating my baseline accuracy of 73%.<br><br>&nbsp;&nbsp;&nbsp;&nbsp;&nbsp;My model identified the most important features as Month-to-month, tenure, total_charges, and fiber in that order.<br><br>&nbsp;&nbsp;&nbsp;&nbsp;&nbsp;If I had more time, I would have liked to try a lot more combinations of features.  I would have also liked to iterate through hyperparameters to boost accuracy.<br><br><b>Recommendations</b><br><br>&nbsp;&nbsp;&nbsp;&nbsp;&nbsp;The data suggests signing up new customers and current customers into a longer contract other than month-to-month and not suggesting fiber as an internet speed would lower the churn rate.</p></p>"
   ]
  },
  {
   "cell_type": "markdown",
   "id": "2957f0ad",
   "metadata": {},
   "source": [
    "<p style=\"font-family:courier; font-size:200%; text-align:center\"> <b>Thank You<b><br><br> </p>"
   ]
  }
 ],
 "metadata": {
  "kernelspec": {
   "display_name": "Python 3",
   "language": "python",
   "name": "python3"
  },
  "language_info": {
   "codemirror_mode": {
    "name": "ipython",
    "version": 3
   },
   "file_extension": ".py",
   "mimetype": "text/x-python",
   "name": "python",
   "nbconvert_exporter": "python",
   "pygments_lexer": "ipython3",
   "version": "3.8.8"
  }
 },
 "nbformat": 4,
 "nbformat_minor": 5
}
