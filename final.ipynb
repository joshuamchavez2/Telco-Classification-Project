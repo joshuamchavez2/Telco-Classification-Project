{
 "cells": [
  {
   "cell_type": "code",
   "execution_count": 4,
   "id": "4c51b912",
   "metadata": {},
   "outputs": [
    {
     "ename": "ImportError",
     "evalue": "cannot import name 'get_iris_data' from 'acquire' (/Users/dulcechavez/codeup-data-science/Telco-Classification-Project/acquire.py)",
     "output_type": "error",
     "traceback": [
      "\u001b[0;31m---------------------------------------------------------------------------\u001b[0m",
      "\u001b[0;31mImportError\u001b[0m                               Traceback (most recent call last)",
      "\u001b[0;32m<ipython-input-4-9876ff5b915f>\u001b[0m in \u001b[0;36m<module>\u001b[0;34m\u001b[0m\n\u001b[1;32m     15\u001b[0m \u001b[0;34m\u001b[0m\u001b[0m\n\u001b[1;32m     16\u001b[0m \u001b[0;31m# Custom module imports\u001b[0m\u001b[0;34m\u001b[0m\u001b[0;34m\u001b[0m\u001b[0;34m\u001b[0m\u001b[0m\n\u001b[0;32m---> 17\u001b[0;31m \u001b[0;32mfrom\u001b[0m \u001b[0macquire\u001b[0m \u001b[0;32mimport\u001b[0m \u001b[0mget_iris_data\u001b[0m\u001b[0;34m,\u001b[0m \u001b[0msummarize_df\u001b[0m\u001b[0;34m\u001b[0m\u001b[0;34m\u001b[0m\u001b[0m\n\u001b[0m\u001b[1;32m     18\u001b[0m \u001b[0;32mimport\u001b[0m \u001b[0mprepare\u001b[0m\u001b[0;34m\u001b[0m\u001b[0;34m\u001b[0m\u001b[0m\n\u001b[1;32m     19\u001b[0m \u001b[0;32mimport\u001b[0m \u001b[0mexplore\u001b[0m\u001b[0;34m\u001b[0m\u001b[0;34m\u001b[0m\u001b[0m\n",
      "\u001b[0;31mImportError\u001b[0m: cannot import name 'get_iris_data' from 'acquire' (/Users/dulcechavez/codeup-data-science/Telco-Classification-Project/acquire.py)"
     ]
    }
   ],
   "source": [
    "import pandas as pd\n",
    "import numpy as np\n",
    "import os\n",
    "import scipy.stats as stats\n",
    "\n",
    "# Viz imports\n",
    "import matplotlib.pyplot as plt\n",
    "import seaborn as sns\n",
    "\n",
    "# Modeling imports\n",
    "from sklearn.model_selection import train_test_split\n",
    "from sklearn.tree import DecisionTreeClassifier, plot_tree, export_text\n",
    "from sklearn.linear_model import LogisticRegression\n",
    "from sklearn.metrics import classification_report, confusion_matrix, accuracy_score\n",
    "\n",
    "# Custom module imports\n",
    "from acquire import get_iris_data, summarize_df\n",
    "import prepare\n",
    "import explore\n",
    "from model import score_models"
   ]
  },
  {
   "cell_type": "markdown",
   "id": "47d1ab18",
   "metadata": {},
   "source": [
    "# <span style=\"background-color:#00FF00\">Plan</span> -> Aquire -> Prepare -> Explore -> Model -> Deliver"
   ]
  },
  {
   "cell_type": "markdown",
   "id": "a69396a1",
   "metadata": {},
   "source": [
    "\n",
    "<p style=\"font-family:courier; font-size:150%;\">\n",
    "<b>Step 1</b><br>&nbsp;&nbsp;&nbsp;&nbsp;&nbsp;Create a new repository, update the .gitignore, create a README.md with the data dictionary, project and business goals, and come up with initial hypotheses.<br><br>\n",
    "<b>Step 2</b><br>&nbsp;&nbsp;&nbsp;&nbsp;&nbsp;Create a python function and SQL script to select all the features and observations from the codeup database.<br><br>\n",
    "<b>Step 3</b><br>&nbsp;&nbsp;&nbsp;&nbsp;&nbsp;Clean the data, drop any useless features, remove duplicates, double check data-types, find any null values, decide what do with null values, and encode the features.<br><br>\n",
    "<b>Step 4</b><br>&nbsp;&nbsp;&nbsp;&nbsp;&nbsp;Split the cleaned data into three data sets named train, validate, and test.<br><br>\n",
    "<b>Step 5</b><br>&nbsp;&nbsp;&nbsp;&nbsp;&nbsp;Explore the data, look through the graphs and evaluate each feature to see if they play a part in churn.  Exploration will also include two hypotheses, setting of alpha, statistical tests, rejecting or failing to reject the null hypothesis, and documentation of the findings and takeaways.<br><br>\n",
    "<b>Step 6</b><br>&nbsp;&nbsp;&nbsp;&nbsp;&nbsp;Model, create three machine learning models plus a baseline model.  Will be using a DecisionTreeClassifier, RandomForestClassifier, and KNeighborsClassifier.  Evaluate models on train and validate datasets.  Pick the model with highest validate accuracy to run on my final test data.<br><br>\n",
    "<b>Step 7</b><br>&nbsp;&nbsp;&nbsp;&nbsp;&nbsp;Create csv file with the measurement id, the probability of the target values, and the model's prediction for each observation in my test dataset.<br><br>\n",
    "<b>Step 8</b><br>&nbsp;&nbsp;&nbsp;&nbsp;&nbsp;Lastly, I will document conclusions, recommendations, and takeaways in the final report notebook.<br><br><br>For a more detailed and in depth plan, refer to the README.MD</p>\n",
    "\n"
   ]
  },
  {
   "cell_type": "markdown",
   "id": "40cce1d3",
   "metadata": {},
   "source": [
    "# Plan -> <span style=\"background-color:#00FF00\">Acquire</span> -> Prepare -> Explore -> Model -> Deliver"
   ]
  },
  {
   "cell_type": "code",
   "execution_count": null,
   "id": "8703d259",
   "metadata": {},
   "outputs": [],
   "source": []
  },
  {
   "cell_type": "markdown",
   "id": "1fe72b4c",
   "metadata": {},
   "source": [
    "# Plan -> Acquire -> <span style=\"background-color:#00FF00\">Prepare</span> -> Explore -> Model -> Deliver"
   ]
  },
  {
   "cell_type": "code",
   "execution_count": null,
   "id": "2ebacf88",
   "metadata": {},
   "outputs": [],
   "source": []
  },
  {
   "cell_type": "markdown",
   "id": "b35494c5",
   "metadata": {},
   "source": [
    "# Plan -> Acquire -> Prepare -> <span style=\"background-color:#00FF00\">Explore</span> -> Model -> Deliver"
   ]
  },
  {
   "cell_type": "code",
   "execution_count": null,
   "id": "789e4b5a",
   "metadata": {},
   "outputs": [],
   "source": []
  },
  {
   "cell_type": "markdown",
   "id": "93ca595a",
   "metadata": {},
   "source": [
    "# Plan -> Acquire -> Prepare -> Explore -> <span style=\"background-color:#00FF00\">Model</span> -> Deliver"
   ]
  },
  {
   "cell_type": "code",
   "execution_count": null,
   "id": "6865ccf8",
   "metadata": {},
   "outputs": [],
   "source": []
  },
  {
   "cell_type": "markdown",
   "id": "a5d1b889",
   "metadata": {},
   "source": [
    "# Plan -> Acquire -> Prepare -> Explore -> Model -> <span style=\"background-color:#00FF00\">Deliver</span>"
   ]
  },
  {
   "cell_type": "markdown",
   "id": "fb1892c5",
   "metadata": {},
   "source": [
    "# &nbsp;&nbsp;&nbsp;&nbsp;&nbsp;$H_{0}$ \n",
    "<p style=\"font-family:courier; font-size:150%;\">&nbsp;&nbsp;&nbsp;&nbsp;&nbsp;There is no difference in the rate of churn for customers who pay with different payment types.<br></p>\n",
    "\n",
    "# &nbsp;&nbsp;&nbsp;&nbsp;&nbsp;$H_{a}$\n",
    "<p style=\"font-family:courier; font-size:150%;\">&nbsp;&nbsp;&nbsp;&nbsp;&nbsp;Is there a difference in the rate of churn for customers who pay with different payment types? </p>"
   ]
  },
  {
   "cell_type": "markdown",
   "id": "b195745a",
   "metadata": {},
   "source": [
    "### Introduce yourself and your project goals at the very beginning of your notebook walkthrough.\n",
    "\n",
    "### Summarize your findings at the beginning like you would for an Executive Summary. Just because you don't have a slide deck for this presentation, doesn't mean you throw out everything you learned from Storytelling.\n",
    "\n",
    "### Walk us through the analysis you did to answer our questions and that lead to your findings. Relationships should be visualized and takeaways documented. Please clearly call out the questions and answers you are analyzing as well as offer insights and recommendations based on your findings.\n",
    "\n",
    "### For example: If you find that month-to-month customers churn more, we won't be surprised, but Telco is not getting rid of that plan. The fact that customers churn is not because they can; it's because they can and they are motivated to do so. We want your insights into why they are motivated to do so. We realize you will not be able to do a full causal experiment, but we would like to see some solid evidence of your conclusions.\n",
    "\n",
    "### Finish with key takeaways, recommendations, and next steps and be prepared to answer questions from the data science team about your project.\n",
    "\n",
    "### Remember you have a time limit of 5 minutes for your presentation. Make sure you practice your notebook walkthrough keeping this time limit in mind; it will go by very quickly."
   ]
  },
  {
   "cell_type": "code",
   "execution_count": null,
   "id": "d57ae724",
   "metadata": {},
   "outputs": [],
   "source": []
  }
 ],
 "metadata": {
  "kernelspec": {
   "display_name": "Python 3",
   "language": "python",
   "name": "python3"
  },
  "language_info": {
   "codemirror_mode": {
    "name": "ipython",
    "version": 3
   },
   "file_extension": ".py",
   "mimetype": "text/x-python",
   "name": "python",
   "nbconvert_exporter": "python",
   "pygments_lexer": "ipython3",
   "version": "3.8.8"
  }
 },
 "nbformat": 4,
 "nbformat_minor": 5
}
