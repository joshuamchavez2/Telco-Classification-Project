{
 "cells": [
  {
   "cell_type": "markdown",
   "id": "b7c1426e",
   "metadata": {},
   "source": [
    "\n",
    "<p style=\"font-family:courier; font-size:200%;\">&nbsp;&nbsp;&nbsp;&nbsp;&nbsp;This is a paragraph.</p>"
   ]
  },
  {
   "cell_type": "code",
   "execution_count": null,
   "id": "71f8ec31",
   "metadata": {},
   "outputs": [],
   "source": []
  }
 ],
 "metadata": {
  "kernelspec": {
   "display_name": "Python 3",
   "language": "python",
   "name": "python3"
  },
  "language_info": {
   "codemirror_mode": {
    "name": "ipython",
    "version": 3
   },
   "file_extension": ".py",
   "mimetype": "text/x-python",
   "name": "python",
   "nbconvert_exporter": "python",
   "pygments_lexer": "ipython3",
   "version": "3.8.8"
  }
 },
 "nbformat": 4,
 "nbformat_minor": 5
}
